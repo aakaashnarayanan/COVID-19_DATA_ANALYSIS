{
  "nbformat": 4,
  "nbformat_minor": 0,
  "metadata": {
    "colab": {
      "name": "COVID-19 DATA ANALYSIS",
      "provenance": [],
      "collapsed_sections": []
    },
    "kernelspec": {
      "name": "python3",
      "display_name": "Python 3"
    }
  },
  "cells": [
    {
      "cell_type": "code",
      "metadata": {
        "id": "decsTbq_XmEn",
        "colab_type": "code",
        "colab": {}
      },
      "source": [
        "import pandas as pd\n",
        "import matplotlib.pyplot as plt  #used to plot the graph\n",
        "from matplotlib import style\n",
        "style.use(\"ggplot\")\n",
        "\n",
        "import plotly\n",
        "import plotly.express as px\n",
        "import plotly.graph_objects as go\n",
        "plt.rcParams['figure.figsize'] = 10,8\n",
        "import cufflinks as cf  #it binds pandas and plotly together\n",
        "import plotly.offline as pyo \n",
        "from plotly.offline import init_notebook_mode,plot,iplot    #this is used to use plotly offline\n",
        "\n",
        "import folium    # used to display maps and plot on the maps\n",
        "\n"
      ],
      "execution_count": 0,
      "outputs": []
    },
    {
      "cell_type": "code",
      "metadata": {
        "id": "f_JN61-xaENQ",
        "colab_type": "code",
        "outputId": "7a9fd1f6-16aa-4e71-c40f-4a34d16c4f56",
        "colab": {
          "base_uri": "https://localhost:8080/",
          "height": 17
        }
      },
      "source": [
        "pyo.init_notebook_mode(connected=True)\n",
        "cf.go_offline()"
      ],
      "execution_count": 0,
      "outputs": [
        {
          "output_type": "display_data",
          "data": {
            "text/html": [
              "        <script type=\"text/javascript\">\n",
              "        window.PlotlyConfig = {MathJaxConfig: 'local'};\n",
              "        if (window.MathJax) {MathJax.Hub.Config({SVG: {font: \"STIX-Web\"}});}\n",
              "        if (typeof require !== 'undefined') {\n",
              "        require.undef(\"plotly\");\n",
              "        requirejs.config({\n",
              "            paths: {\n",
              "                'plotly': ['https://cdn.plot.ly/plotly-latest.min']\n",
              "            }\n",
              "        });\n",
              "        require(['plotly'], function(Plotly) {\n",
              "            window._Plotly = Plotly;\n",
              "        });\n",
              "        }\n",
              "        </script>\n",
              "        "
            ]
          },
          "metadata": {
            "tags": []
          }
        },
        {
          "output_type": "display_data",
          "data": {
            "text/html": [
              "        <script type=\"text/javascript\">\n",
              "        window.PlotlyConfig = {MathJaxConfig: 'local'};\n",
              "        if (window.MathJax) {MathJax.Hub.Config({SVG: {font: \"STIX-Web\"}});}\n",
              "        if (typeof require !== 'undefined') {\n",
              "        require.undef(\"plotly\");\n",
              "        requirejs.config({\n",
              "            paths: {\n",
              "                'plotly': ['https://cdn.plot.ly/plotly-latest.min']\n",
              "            }\n",
              "        });\n",
              "        require(['plotly'], function(Plotly) {\n",
              "            window._Plotly = Plotly;\n",
              "        });\n",
              "        }\n",
              "        </script>\n",
              "        "
            ]
          },
          "metadata": {
            "tags": []
          }
        }
      ]
    },
    {
      "cell_type": "code",
      "metadata": {
        "id": "Wz9GSl3iaaip",
        "colab_type": "code",
        "outputId": "14a57a89-c389-4d18-b11b-9d58724cfdd8",
        "colab": {
          "resources": {
            "http://localhost:8080/nbextensions/google.colab/files.js": {
              "data": "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",
              "ok": true,
              "headers": [
                [
                  "content-type",
                  "application/javascript"
                ]
              ],
              "status": 200,
              "status_text": ""
            }
          },
          "base_uri": "https://localhost:8080/",
          "height": 74
        }
      },
      "source": [
        "from google.colab import  files\n",
        "uploaded = files.upload()"
      ],
      "execution_count": 0,
      "outputs": [
        {
          "output_type": "display_data",
          "data": {
            "text/html": [
              "\n",
              "     <input type=\"file\" id=\"files-6e509c06-77ef-4e35-8b80-29db7acedae2\" name=\"files[]\" multiple disabled />\n",
              "     <output id=\"result-6e509c06-77ef-4e35-8b80-29db7acedae2\">\n",
              "      Upload widget is only available when the cell has been executed in the\n",
              "      current browser session. Please rerun this cell to enable.\n",
              "      </output>\n",
              "      <script src=\"/nbextensions/google.colab/files.js\"></script> "
            ],
            "text/plain": [
              "<IPython.core.display.HTML object>"
            ]
          },
          "metadata": {
            "tags": []
          }
        },
        {
          "output_type": "stream",
          "text": [
            "Saving indigo codingf.txt to indigo codingf.txt\n"
          ],
          "name": "stdout"
        }
      ]
    },
    {
      "cell_type": "code",
      "metadata": {
        "id": "HnVgrWYdiv2u",
        "colab_type": "code",
        "outputId": "9ad16c35-ad91-4b93-cec9-2b73b2f0a93f",
        "colab": {
          "base_uri": "https://localhost:8080/",
          "height": 178
        }
      },
      "source": [
        "import io\n",
        "df = pd.read_excel(io.BytesIO(uploaded['Covid cases in India.xlsx']))"
      ],
      "execution_count": 0,
      "outputs": [
        {
          "output_type": "error",
          "ename": "KeyError",
          "evalue": "ignored",
          "traceback": [
            "\u001b[0;31m---------------------------------------------------------------------------\u001b[0m",
            "\u001b[0;31mKeyError\u001b[0m                                  Traceback (most recent call last)",
            "\u001b[0;32m<ipython-input-4-2a7073aa6379>\u001b[0m in \u001b[0;36m<module>\u001b[0;34m()\u001b[0m\n\u001b[1;32m      1\u001b[0m \u001b[0;32mimport\u001b[0m \u001b[0mio\u001b[0m\u001b[0;34m\u001b[0m\u001b[0;34m\u001b[0m\u001b[0m\n\u001b[0;32m----> 2\u001b[0;31m \u001b[0mdf\u001b[0m \u001b[0;34m=\u001b[0m \u001b[0mpd\u001b[0m\u001b[0;34m.\u001b[0m\u001b[0mread_excel\u001b[0m\u001b[0;34m(\u001b[0m\u001b[0mio\u001b[0m\u001b[0;34m.\u001b[0m\u001b[0mBytesIO\u001b[0m\u001b[0;34m(\u001b[0m\u001b[0muploaded\u001b[0m\u001b[0;34m[\u001b[0m\u001b[0;34m'Covid cases in India.xlsx'\u001b[0m\u001b[0;34m]\u001b[0m\u001b[0;34m)\u001b[0m\u001b[0;34m)\u001b[0m\u001b[0;34m\u001b[0m\u001b[0;34m\u001b[0m\u001b[0m\n\u001b[0m",
            "\u001b[0;31mKeyError\u001b[0m: 'Covid cases in India.xlsx'"
          ]
        }
      ]
    },
    {
      "cell_type": "code",
      "metadata": {
        "id": "xQX8a3bAkWih",
        "colab_type": "code",
        "outputId": "370d565e-cc63-44ee-8e5c-348dc6f1241b",
        "colab": {
          "base_uri": "https://localhost:8080/",
          "height": 817
        }
      },
      "source": [
        "df"
      ],
      "execution_count": 0,
      "outputs": [
        {
          "output_type": "execute_result",
          "data": {
            "text/html": [
              "<div>\n",
              "<style scoped>\n",
              "    .dataframe tbody tr th:only-of-type {\n",
              "        vertical-align: middle;\n",
              "    }\n",
              "\n",
              "    .dataframe tbody tr th {\n",
              "        vertical-align: top;\n",
              "    }\n",
              "\n",
              "    .dataframe thead th {\n",
              "        text-align: right;\n",
              "    }\n",
              "</style>\n",
              "<table border=\"1\" class=\"dataframe\">\n",
              "  <thead>\n",
              "    <tr style=\"text-align: right;\">\n",
              "      <th></th>\n",
              "      <th>S. No.</th>\n",
              "      <th>Name of State / UT</th>\n",
              "      <th>Total Confirmed cases (Indian National)</th>\n",
              "      <th>Total Confirmed cases ( Foreign National )</th>\n",
              "      <th>Cured</th>\n",
              "      <th>Death</th>\n",
              "    </tr>\n",
              "  </thead>\n",
              "  <tbody>\n",
              "    <tr>\n",
              "      <th>0</th>\n",
              "      <td>1</td>\n",
              "      <td>Andhra Pradesh</td>\n",
              "      <td>12</td>\n",
              "      <td>0</td>\n",
              "      <td>1</td>\n",
              "      <td>0</td>\n",
              "    </tr>\n",
              "    <tr>\n",
              "      <th>1</th>\n",
              "      <td>2</td>\n",
              "      <td>Chhattisgarh</td>\n",
              "      <td>6</td>\n",
              "      <td>0</td>\n",
              "      <td>0</td>\n",
              "      <td>0</td>\n",
              "    </tr>\n",
              "    <tr>\n",
              "      <th>2</th>\n",
              "      <td>3</td>\n",
              "      <td>Delhi</td>\n",
              "      <td>38</td>\n",
              "      <td>1</td>\n",
              "      <td>6</td>\n",
              "      <td>1</td>\n",
              "    </tr>\n",
              "    <tr>\n",
              "      <th>3</th>\n",
              "      <td>4</td>\n",
              "      <td>Gujarat</td>\n",
              "      <td>43</td>\n",
              "      <td>0</td>\n",
              "      <td>0</td>\n",
              "      <td>3</td>\n",
              "    </tr>\n",
              "    <tr>\n",
              "      <th>4</th>\n",
              "      <td>5</td>\n",
              "      <td>Haryana</td>\n",
              "      <td>16</td>\n",
              "      <td>14</td>\n",
              "      <td>11</td>\n",
              "      <td>0</td>\n",
              "    </tr>\n",
              "    <tr>\n",
              "      <th>5</th>\n",
              "      <td>6</td>\n",
              "      <td>Himachal Pradesh</td>\n",
              "      <td>4</td>\n",
              "      <td>0</td>\n",
              "      <td>0</td>\n",
              "      <td>1</td>\n",
              "    </tr>\n",
              "    <tr>\n",
              "      <th>6</th>\n",
              "      <td>7</td>\n",
              "      <td>Karnataka</td>\n",
              "      <td>20</td>\n",
              "      <td>0</td>\n",
              "      <td>3</td>\n",
              "      <td>2</td>\n",
              "    </tr>\n",
              "    <tr>\n",
              "      <th>7</th>\n",
              "      <td>8</td>\n",
              "      <td>Kerala</td>\n",
              "      <td>131</td>\n",
              "      <td>7</td>\n",
              "      <td>11</td>\n",
              "      <td>0</td>\n",
              "    </tr>\n",
              "    <tr>\n",
              "      <th>8</th>\n",
              "      <td>9</td>\n",
              "      <td>Madhya Pradesh</td>\n",
              "      <td>23</td>\n",
              "      <td>0</td>\n",
              "      <td>0</td>\n",
              "      <td>1</td>\n",
              "    </tr>\n",
              "    <tr>\n",
              "      <th>9</th>\n",
              "      <td>10</td>\n",
              "      <td>Maharashtra</td>\n",
              "      <td>144</td>\n",
              "      <td>3</td>\n",
              "      <td>15</td>\n",
              "      <td>4</td>\n",
              "    </tr>\n",
              "    <tr>\n",
              "      <th>10</th>\n",
              "      <td>11</td>\n",
              "      <td>Odisha</td>\n",
              "      <td>3</td>\n",
              "      <td>0</td>\n",
              "      <td>0</td>\n",
              "      <td>0</td>\n",
              "    </tr>\n",
              "    <tr>\n",
              "      <th>11</th>\n",
              "      <td>12</td>\n",
              "      <td>Puducherry</td>\n",
              "      <td>1</td>\n",
              "      <td>0</td>\n",
              "      <td>0</td>\n",
              "      <td>0</td>\n",
              "    </tr>\n",
              "    <tr>\n",
              "      <th>12</th>\n",
              "      <td>13</td>\n",
              "      <td>Punjab</td>\n",
              "      <td>29</td>\n",
              "      <td>0</td>\n",
              "      <td>0</td>\n",
              "      <td>1</td>\n",
              "    </tr>\n",
              "    <tr>\n",
              "      <th>13</th>\n",
              "      <td>14</td>\n",
              "      <td>Rajasthan</td>\n",
              "      <td>41</td>\n",
              "      <td>2</td>\n",
              "      <td>3</td>\n",
              "      <td>0</td>\n",
              "    </tr>\n",
              "    <tr>\n",
              "      <th>14</th>\n",
              "      <td>15</td>\n",
              "      <td>Tamil Nadu</td>\n",
              "      <td>32</td>\n",
              "      <td>3</td>\n",
              "      <td>1</td>\n",
              "      <td>1</td>\n",
              "    </tr>\n",
              "    <tr>\n",
              "      <th>15</th>\n",
              "      <td>16</td>\n",
              "      <td>Telengana</td>\n",
              "      <td>34</td>\n",
              "      <td>11</td>\n",
              "      <td>1</td>\n",
              "      <td>0</td>\n",
              "    </tr>\n",
              "    <tr>\n",
              "      <th>16</th>\n",
              "      <td>17</td>\n",
              "      <td>Chandigarh</td>\n",
              "      <td>7</td>\n",
              "      <td>0</td>\n",
              "      <td>0</td>\n",
              "      <td>0</td>\n",
              "    </tr>\n",
              "    <tr>\n",
              "      <th>17</th>\n",
              "      <td>18</td>\n",
              "      <td>Jammu and Kashmir</td>\n",
              "      <td>18</td>\n",
              "      <td>0</td>\n",
              "      <td>1</td>\n",
              "      <td>1</td>\n",
              "    </tr>\n",
              "    <tr>\n",
              "      <th>18</th>\n",
              "      <td>19</td>\n",
              "      <td>Ladakh</td>\n",
              "      <td>13</td>\n",
              "      <td>0</td>\n",
              "      <td>0</td>\n",
              "      <td>0</td>\n",
              "    </tr>\n",
              "    <tr>\n",
              "      <th>19</th>\n",
              "      <td>20</td>\n",
              "      <td>Uttar Pradesh</td>\n",
              "      <td>42</td>\n",
              "      <td>1</td>\n",
              "      <td>11</td>\n",
              "      <td>0</td>\n",
              "    </tr>\n",
              "    <tr>\n",
              "      <th>20</th>\n",
              "      <td>21</td>\n",
              "      <td>Uttarakhand</td>\n",
              "      <td>4</td>\n",
              "      <td>0</td>\n",
              "      <td>0</td>\n",
              "      <td>0</td>\n",
              "    </tr>\n",
              "    <tr>\n",
              "      <th>21</th>\n",
              "      <td>22</td>\n",
              "      <td>West Bengal</td>\n",
              "      <td>11</td>\n",
              "      <td>0</td>\n",
              "      <td>0</td>\n",
              "      <td>1</td>\n",
              "    </tr>\n",
              "    <tr>\n",
              "      <th>22</th>\n",
              "      <td>23</td>\n",
              "      <td>Bihar</td>\n",
              "      <td>7</td>\n",
              "      <td>0</td>\n",
              "      <td>0</td>\n",
              "      <td>1</td>\n",
              "    </tr>\n",
              "    <tr>\n",
              "      <th>23</th>\n",
              "      <td>24</td>\n",
              "      <td>Mizoram</td>\n",
              "      <td>1</td>\n",
              "      <td>0</td>\n",
              "      <td>0</td>\n",
              "      <td>0</td>\n",
              "    </tr>\n",
              "    <tr>\n",
              "      <th>24</th>\n",
              "      <td>25</td>\n",
              "      <td>Goa</td>\n",
              "      <td>6</td>\n",
              "      <td>0</td>\n",
              "      <td>0</td>\n",
              "      <td>0</td>\n",
              "    </tr>\n",
              "    <tr>\n",
              "      <th>25</th>\n",
              "      <td>26</td>\n",
              "      <td>Manipur</td>\n",
              "      <td>1</td>\n",
              "      <td>0</td>\n",
              "      <td>0</td>\n",
              "      <td>0</td>\n",
              "    </tr>\n",
              "  </tbody>\n",
              "</table>\n",
              "</div>"
            ],
            "text/plain": [
              "    S. No. Name of State / UT  ...  Cured  Death\n",
              "0        1     Andhra Pradesh  ...      1      0\n",
              "1        2       Chhattisgarh  ...      0      0\n",
              "2        3              Delhi  ...      6      1\n",
              "3        4            Gujarat  ...      0      3\n",
              "4        5            Haryana  ...     11      0\n",
              "5        6   Himachal Pradesh  ...      0      1\n",
              "6        7          Karnataka  ...      3      2\n",
              "7        8             Kerala  ...     11      0\n",
              "8        9     Madhya Pradesh  ...      0      1\n",
              "9       10        Maharashtra  ...     15      4\n",
              "10      11             Odisha  ...      0      0\n",
              "11      12         Puducherry  ...      0      0\n",
              "12      13             Punjab  ...      0      1\n",
              "13      14          Rajasthan  ...      3      0\n",
              "14      15         Tamil Nadu  ...      1      1\n",
              "15      16          Telengana  ...      1      0\n",
              "16      17         Chandigarh  ...      0      0\n",
              "17      18  Jammu and Kashmir  ...      1      1\n",
              "18      19             Ladakh  ...      0      0\n",
              "19      20      Uttar Pradesh  ...     11      0\n",
              "20      21        Uttarakhand  ...      0      0\n",
              "21      22        West Bengal  ...      0      1\n",
              "22      23              Bihar  ...      0      1\n",
              "23      24            Mizoram  ...      0      0\n",
              "24      25                Goa  ...      0      0\n",
              "25      26            Manipur  ...      0      0\n",
              "\n",
              "[26 rows x 6 columns]"
            ]
          },
          "metadata": {
            "tags": []
          },
          "execution_count": 14
        }
      ]
    },
    {
      "cell_type": "code",
      "metadata": {
        "id": "tKhEYbymlpPT",
        "colab_type": "code",
        "colab": {}
      },
      "source": [
        "df.drop(['S. No.'], axis=1, inplace= True)"
      ],
      "execution_count": 0,
      "outputs": []
    },
    {
      "cell_type": "code",
      "metadata": {
        "id": "AmzZNvOwnDiy",
        "colab_type": "code",
        "outputId": "9c7ce25c-ba92-4902-be6c-fdc2153147c1",
        "colab": {
          "base_uri": "https://localhost:8080/",
          "height": 817
        }
      },
      "source": [
        "df"
      ],
      "execution_count": 0,
      "outputs": [
        {
          "output_type": "execute_result",
          "data": {
            "text/html": [
              "<div>\n",
              "<style scoped>\n",
              "    .dataframe tbody tr th:only-of-type {\n",
              "        vertical-align: middle;\n",
              "    }\n",
              "\n",
              "    .dataframe tbody tr th {\n",
              "        vertical-align: top;\n",
              "    }\n",
              "\n",
              "    .dataframe thead th {\n",
              "        text-align: right;\n",
              "    }\n",
              "</style>\n",
              "<table border=\"1\" class=\"dataframe\">\n",
              "  <thead>\n",
              "    <tr style=\"text-align: right;\">\n",
              "      <th></th>\n",
              "      <th>Name of State / UT</th>\n",
              "      <th>Total Confirmed cases (Indian National)</th>\n",
              "      <th>Total Confirmed cases ( Foreign National )</th>\n",
              "      <th>Cured</th>\n",
              "      <th>Death</th>\n",
              "    </tr>\n",
              "  </thead>\n",
              "  <tbody>\n",
              "    <tr>\n",
              "      <th>0</th>\n",
              "      <td>Andhra Pradesh</td>\n",
              "      <td>12</td>\n",
              "      <td>0</td>\n",
              "      <td>1</td>\n",
              "      <td>0</td>\n",
              "    </tr>\n",
              "    <tr>\n",
              "      <th>1</th>\n",
              "      <td>Chhattisgarh</td>\n",
              "      <td>6</td>\n",
              "      <td>0</td>\n",
              "      <td>0</td>\n",
              "      <td>0</td>\n",
              "    </tr>\n",
              "    <tr>\n",
              "      <th>2</th>\n",
              "      <td>Delhi</td>\n",
              "      <td>38</td>\n",
              "      <td>1</td>\n",
              "      <td>6</td>\n",
              "      <td>1</td>\n",
              "    </tr>\n",
              "    <tr>\n",
              "      <th>3</th>\n",
              "      <td>Gujarat</td>\n",
              "      <td>43</td>\n",
              "      <td>0</td>\n",
              "      <td>0</td>\n",
              "      <td>3</td>\n",
              "    </tr>\n",
              "    <tr>\n",
              "      <th>4</th>\n",
              "      <td>Haryana</td>\n",
              "      <td>16</td>\n",
              "      <td>14</td>\n",
              "      <td>11</td>\n",
              "      <td>0</td>\n",
              "    </tr>\n",
              "    <tr>\n",
              "      <th>5</th>\n",
              "      <td>Himachal Pradesh</td>\n",
              "      <td>4</td>\n",
              "      <td>0</td>\n",
              "      <td>0</td>\n",
              "      <td>1</td>\n",
              "    </tr>\n",
              "    <tr>\n",
              "      <th>6</th>\n",
              "      <td>Karnataka</td>\n",
              "      <td>20</td>\n",
              "      <td>0</td>\n",
              "      <td>3</td>\n",
              "      <td>2</td>\n",
              "    </tr>\n",
              "    <tr>\n",
              "      <th>7</th>\n",
              "      <td>Kerala</td>\n",
              "      <td>131</td>\n",
              "      <td>7</td>\n",
              "      <td>11</td>\n",
              "      <td>0</td>\n",
              "    </tr>\n",
              "    <tr>\n",
              "      <th>8</th>\n",
              "      <td>Madhya Pradesh</td>\n",
              "      <td>23</td>\n",
              "      <td>0</td>\n",
              "      <td>0</td>\n",
              "      <td>1</td>\n",
              "    </tr>\n",
              "    <tr>\n",
              "      <th>9</th>\n",
              "      <td>Maharashtra</td>\n",
              "      <td>144</td>\n",
              "      <td>3</td>\n",
              "      <td>15</td>\n",
              "      <td>4</td>\n",
              "    </tr>\n",
              "    <tr>\n",
              "      <th>10</th>\n",
              "      <td>Odisha</td>\n",
              "      <td>3</td>\n",
              "      <td>0</td>\n",
              "      <td>0</td>\n",
              "      <td>0</td>\n",
              "    </tr>\n",
              "    <tr>\n",
              "      <th>11</th>\n",
              "      <td>Puducherry</td>\n",
              "      <td>1</td>\n",
              "      <td>0</td>\n",
              "      <td>0</td>\n",
              "      <td>0</td>\n",
              "    </tr>\n",
              "    <tr>\n",
              "      <th>12</th>\n",
              "      <td>Punjab</td>\n",
              "      <td>29</td>\n",
              "      <td>0</td>\n",
              "      <td>0</td>\n",
              "      <td>1</td>\n",
              "    </tr>\n",
              "    <tr>\n",
              "      <th>13</th>\n",
              "      <td>Rajasthan</td>\n",
              "      <td>41</td>\n",
              "      <td>2</td>\n",
              "      <td>3</td>\n",
              "      <td>0</td>\n",
              "    </tr>\n",
              "    <tr>\n",
              "      <th>14</th>\n",
              "      <td>Tamil Nadu</td>\n",
              "      <td>32</td>\n",
              "      <td>3</td>\n",
              "      <td>1</td>\n",
              "      <td>1</td>\n",
              "    </tr>\n",
              "    <tr>\n",
              "      <th>15</th>\n",
              "      <td>Telengana</td>\n",
              "      <td>34</td>\n",
              "      <td>11</td>\n",
              "      <td>1</td>\n",
              "      <td>0</td>\n",
              "    </tr>\n",
              "    <tr>\n",
              "      <th>16</th>\n",
              "      <td>Chandigarh</td>\n",
              "      <td>7</td>\n",
              "      <td>0</td>\n",
              "      <td>0</td>\n",
              "      <td>0</td>\n",
              "    </tr>\n",
              "    <tr>\n",
              "      <th>17</th>\n",
              "      <td>Jammu and Kashmir</td>\n",
              "      <td>18</td>\n",
              "      <td>0</td>\n",
              "      <td>1</td>\n",
              "      <td>1</td>\n",
              "    </tr>\n",
              "    <tr>\n",
              "      <th>18</th>\n",
              "      <td>Ladakh</td>\n",
              "      <td>13</td>\n",
              "      <td>0</td>\n",
              "      <td>0</td>\n",
              "      <td>0</td>\n",
              "    </tr>\n",
              "    <tr>\n",
              "      <th>19</th>\n",
              "      <td>Uttar Pradesh</td>\n",
              "      <td>42</td>\n",
              "      <td>1</td>\n",
              "      <td>11</td>\n",
              "      <td>0</td>\n",
              "    </tr>\n",
              "    <tr>\n",
              "      <th>20</th>\n",
              "      <td>Uttarakhand</td>\n",
              "      <td>4</td>\n",
              "      <td>0</td>\n",
              "      <td>0</td>\n",
              "      <td>0</td>\n",
              "    </tr>\n",
              "    <tr>\n",
              "      <th>21</th>\n",
              "      <td>West Bengal</td>\n",
              "      <td>11</td>\n",
              "      <td>0</td>\n",
              "      <td>0</td>\n",
              "      <td>1</td>\n",
              "    </tr>\n",
              "    <tr>\n",
              "      <th>22</th>\n",
              "      <td>Bihar</td>\n",
              "      <td>7</td>\n",
              "      <td>0</td>\n",
              "      <td>0</td>\n",
              "      <td>1</td>\n",
              "    </tr>\n",
              "    <tr>\n",
              "      <th>23</th>\n",
              "      <td>Mizoram</td>\n",
              "      <td>1</td>\n",
              "      <td>0</td>\n",
              "      <td>0</td>\n",
              "      <td>0</td>\n",
              "    </tr>\n",
              "    <tr>\n",
              "      <th>24</th>\n",
              "      <td>Goa</td>\n",
              "      <td>6</td>\n",
              "      <td>0</td>\n",
              "      <td>0</td>\n",
              "      <td>0</td>\n",
              "    </tr>\n",
              "    <tr>\n",
              "      <th>25</th>\n",
              "      <td>Manipur</td>\n",
              "      <td>1</td>\n",
              "      <td>0</td>\n",
              "      <td>0</td>\n",
              "      <td>0</td>\n",
              "    </tr>\n",
              "  </tbody>\n",
              "</table>\n",
              "</div>"
            ],
            "text/plain": [
              "   Name of State / UT  Total Confirmed cases (Indian National)  ...  Cured  Death\n",
              "0      Andhra Pradesh                                       12  ...      1      0\n",
              "1        Chhattisgarh                                        6  ...      0      0\n",
              "2               Delhi                                       38  ...      6      1\n",
              "3             Gujarat                                       43  ...      0      3\n",
              "4             Haryana                                       16  ...     11      0\n",
              "5    Himachal Pradesh                                        4  ...      0      1\n",
              "6           Karnataka                                       20  ...      3      2\n",
              "7              Kerala                                      131  ...     11      0\n",
              "8      Madhya Pradesh                                       23  ...      0      1\n",
              "9         Maharashtra                                      144  ...     15      4\n",
              "10             Odisha                                        3  ...      0      0\n",
              "11         Puducherry                                        1  ...      0      0\n",
              "12             Punjab                                       29  ...      0      1\n",
              "13          Rajasthan                                       41  ...      3      0\n",
              "14         Tamil Nadu                                       32  ...      1      1\n",
              "15          Telengana                                       34  ...      1      0\n",
              "16         Chandigarh                                        7  ...      0      0\n",
              "17  Jammu and Kashmir                                       18  ...      1      1\n",
              "18             Ladakh                                       13  ...      0      0\n",
              "19      Uttar Pradesh                                       42  ...     11      0\n",
              "20        Uttarakhand                                        4  ...      0      0\n",
              "21        West Bengal                                       11  ...      0      1\n",
              "22              Bihar                                        7  ...      0      1\n",
              "23            Mizoram                                        1  ...      0      0\n",
              "24                Goa                                        6  ...      0      0\n",
              "25            Manipur                                        1  ...      0      0\n",
              "\n",
              "[26 rows x 5 columns]"
            ]
          },
          "metadata": {
            "tags": []
          },
          "execution_count": 17
        }
      ]
    },
    {
      "cell_type": "code",
      "metadata": {
        "id": "vE2ozdrrnODs",
        "colab_type": "code",
        "outputId": "6774db36-3432-4365-bf61-517ea771b8b8",
        "colab": {
          "base_uri": "https://localhost:8080/",
          "height": 34
        }
      },
      "source": [
        "df['Total cases']=df['Total Confirmed cases ( Foreign National )' ]+df['Total Confirmed cases (Indian National)']"
      ],
      "execution_count": 0,
      "outputs": [
        {
          "output_type": "stream",
          "text": [
            "ERROR! Session/line number was not unique in database. History logging moved to new session 61\n"
          ],
          "name": "stdout"
        }
      ]
    },
    {
      "cell_type": "code",
      "metadata": {
        "id": "xaCsN1TgnN-f",
        "colab_type": "code",
        "outputId": "802ed414-adf9-4e59-9e8b-52f65f73a91b",
        "colab": {
          "base_uri": "https://localhost:8080/",
          "height": 817
        }
      },
      "source": [
        "df"
      ],
      "execution_count": 0,
      "outputs": [
        {
          "output_type": "execute_result",
          "data": {
            "text/html": [
              "<div>\n",
              "<style scoped>\n",
              "    .dataframe tbody tr th:only-of-type {\n",
              "        vertical-align: middle;\n",
              "    }\n",
              "\n",
              "    .dataframe tbody tr th {\n",
              "        vertical-align: top;\n",
              "    }\n",
              "\n",
              "    .dataframe thead th {\n",
              "        text-align: right;\n",
              "    }\n",
              "</style>\n",
              "<table border=\"1\" class=\"dataframe\">\n",
              "  <thead>\n",
              "    <tr style=\"text-align: right;\">\n",
              "      <th></th>\n",
              "      <th>Name of State / UT</th>\n",
              "      <th>Total Confirmed cases (Indian National)</th>\n",
              "      <th>Total Confirmed cases ( Foreign National )</th>\n",
              "      <th>Cured</th>\n",
              "      <th>Death</th>\n",
              "      <th>Total cases</th>\n",
              "    </tr>\n",
              "  </thead>\n",
              "  <tbody>\n",
              "    <tr>\n",
              "      <th>0</th>\n",
              "      <td>Andhra Pradesh</td>\n",
              "      <td>12</td>\n",
              "      <td>0</td>\n",
              "      <td>1</td>\n",
              "      <td>0</td>\n",
              "      <td>12</td>\n",
              "    </tr>\n",
              "    <tr>\n",
              "      <th>1</th>\n",
              "      <td>Chhattisgarh</td>\n",
              "      <td>6</td>\n",
              "      <td>0</td>\n",
              "      <td>0</td>\n",
              "      <td>0</td>\n",
              "      <td>6</td>\n",
              "    </tr>\n",
              "    <tr>\n",
              "      <th>2</th>\n",
              "      <td>Delhi</td>\n",
              "      <td>38</td>\n",
              "      <td>1</td>\n",
              "      <td>6</td>\n",
              "      <td>1</td>\n",
              "      <td>39</td>\n",
              "    </tr>\n",
              "    <tr>\n",
              "      <th>3</th>\n",
              "      <td>Gujarat</td>\n",
              "      <td>43</td>\n",
              "      <td>0</td>\n",
              "      <td>0</td>\n",
              "      <td>3</td>\n",
              "      <td>43</td>\n",
              "    </tr>\n",
              "    <tr>\n",
              "      <th>4</th>\n",
              "      <td>Haryana</td>\n",
              "      <td>16</td>\n",
              "      <td>14</td>\n",
              "      <td>11</td>\n",
              "      <td>0</td>\n",
              "      <td>30</td>\n",
              "    </tr>\n",
              "    <tr>\n",
              "      <th>5</th>\n",
              "      <td>Himachal Pradesh</td>\n",
              "      <td>4</td>\n",
              "      <td>0</td>\n",
              "      <td>0</td>\n",
              "      <td>1</td>\n",
              "      <td>4</td>\n",
              "    </tr>\n",
              "    <tr>\n",
              "      <th>6</th>\n",
              "      <td>Karnataka</td>\n",
              "      <td>20</td>\n",
              "      <td>0</td>\n",
              "      <td>3</td>\n",
              "      <td>2</td>\n",
              "      <td>20</td>\n",
              "    </tr>\n",
              "    <tr>\n",
              "      <th>7</th>\n",
              "      <td>Kerala</td>\n",
              "      <td>131</td>\n",
              "      <td>7</td>\n",
              "      <td>11</td>\n",
              "      <td>0</td>\n",
              "      <td>138</td>\n",
              "    </tr>\n",
              "    <tr>\n",
              "      <th>8</th>\n",
              "      <td>Madhya Pradesh</td>\n",
              "      <td>23</td>\n",
              "      <td>0</td>\n",
              "      <td>0</td>\n",
              "      <td>1</td>\n",
              "      <td>23</td>\n",
              "    </tr>\n",
              "    <tr>\n",
              "      <th>9</th>\n",
              "      <td>Maharashtra</td>\n",
              "      <td>144</td>\n",
              "      <td>3</td>\n",
              "      <td>15</td>\n",
              "      <td>4</td>\n",
              "      <td>147</td>\n",
              "    </tr>\n",
              "    <tr>\n",
              "      <th>10</th>\n",
              "      <td>Odisha</td>\n",
              "      <td>3</td>\n",
              "      <td>0</td>\n",
              "      <td>0</td>\n",
              "      <td>0</td>\n",
              "      <td>3</td>\n",
              "    </tr>\n",
              "    <tr>\n",
              "      <th>11</th>\n",
              "      <td>Puducherry</td>\n",
              "      <td>1</td>\n",
              "      <td>0</td>\n",
              "      <td>0</td>\n",
              "      <td>0</td>\n",
              "      <td>1</td>\n",
              "    </tr>\n",
              "    <tr>\n",
              "      <th>12</th>\n",
              "      <td>Punjab</td>\n",
              "      <td>29</td>\n",
              "      <td>0</td>\n",
              "      <td>0</td>\n",
              "      <td>1</td>\n",
              "      <td>29</td>\n",
              "    </tr>\n",
              "    <tr>\n",
              "      <th>13</th>\n",
              "      <td>Rajasthan</td>\n",
              "      <td>41</td>\n",
              "      <td>2</td>\n",
              "      <td>3</td>\n",
              "      <td>0</td>\n",
              "      <td>43</td>\n",
              "    </tr>\n",
              "    <tr>\n",
              "      <th>14</th>\n",
              "      <td>Tamil Nadu</td>\n",
              "      <td>32</td>\n",
              "      <td>3</td>\n",
              "      <td>1</td>\n",
              "      <td>1</td>\n",
              "      <td>35</td>\n",
              "    </tr>\n",
              "    <tr>\n",
              "      <th>15</th>\n",
              "      <td>Telengana</td>\n",
              "      <td>34</td>\n",
              "      <td>11</td>\n",
              "      <td>1</td>\n",
              "      <td>0</td>\n",
              "      <td>45</td>\n",
              "    </tr>\n",
              "    <tr>\n",
              "      <th>16</th>\n",
              "      <td>Chandigarh</td>\n",
              "      <td>7</td>\n",
              "      <td>0</td>\n",
              "      <td>0</td>\n",
              "      <td>0</td>\n",
              "      <td>7</td>\n",
              "    </tr>\n",
              "    <tr>\n",
              "      <th>17</th>\n",
              "      <td>Jammu and Kashmir</td>\n",
              "      <td>18</td>\n",
              "      <td>0</td>\n",
              "      <td>1</td>\n",
              "      <td>1</td>\n",
              "      <td>18</td>\n",
              "    </tr>\n",
              "    <tr>\n",
              "      <th>18</th>\n",
              "      <td>Ladakh</td>\n",
              "      <td>13</td>\n",
              "      <td>0</td>\n",
              "      <td>0</td>\n",
              "      <td>0</td>\n",
              "      <td>13</td>\n",
              "    </tr>\n",
              "    <tr>\n",
              "      <th>19</th>\n",
              "      <td>Uttar Pradesh</td>\n",
              "      <td>42</td>\n",
              "      <td>1</td>\n",
              "      <td>11</td>\n",
              "      <td>0</td>\n",
              "      <td>43</td>\n",
              "    </tr>\n",
              "    <tr>\n",
              "      <th>20</th>\n",
              "      <td>Uttarakhand</td>\n",
              "      <td>4</td>\n",
              "      <td>0</td>\n",
              "      <td>0</td>\n",
              "      <td>0</td>\n",
              "      <td>4</td>\n",
              "    </tr>\n",
              "    <tr>\n",
              "      <th>21</th>\n",
              "      <td>West Bengal</td>\n",
              "      <td>11</td>\n",
              "      <td>0</td>\n",
              "      <td>0</td>\n",
              "      <td>1</td>\n",
              "      <td>11</td>\n",
              "    </tr>\n",
              "    <tr>\n",
              "      <th>22</th>\n",
              "      <td>Bihar</td>\n",
              "      <td>7</td>\n",
              "      <td>0</td>\n",
              "      <td>0</td>\n",
              "      <td>1</td>\n",
              "      <td>7</td>\n",
              "    </tr>\n",
              "    <tr>\n",
              "      <th>23</th>\n",
              "      <td>Mizoram</td>\n",
              "      <td>1</td>\n",
              "      <td>0</td>\n",
              "      <td>0</td>\n",
              "      <td>0</td>\n",
              "      <td>1</td>\n",
              "    </tr>\n",
              "    <tr>\n",
              "      <th>24</th>\n",
              "      <td>Goa</td>\n",
              "      <td>6</td>\n",
              "      <td>0</td>\n",
              "      <td>0</td>\n",
              "      <td>0</td>\n",
              "      <td>6</td>\n",
              "    </tr>\n",
              "    <tr>\n",
              "      <th>25</th>\n",
              "      <td>Manipur</td>\n",
              "      <td>1</td>\n",
              "      <td>0</td>\n",
              "      <td>0</td>\n",
              "      <td>0</td>\n",
              "      <td>1</td>\n",
              "    </tr>\n",
              "  </tbody>\n",
              "</table>\n",
              "</div>"
            ],
            "text/plain": [
              "   Name of State / UT  ...  Total cases\n",
              "0      Andhra Pradesh  ...           12\n",
              "1        Chhattisgarh  ...            6\n",
              "2               Delhi  ...           39\n",
              "3             Gujarat  ...           43\n",
              "4             Haryana  ...           30\n",
              "5    Himachal Pradesh  ...            4\n",
              "6           Karnataka  ...           20\n",
              "7              Kerala  ...          138\n",
              "8      Madhya Pradesh  ...           23\n",
              "9         Maharashtra  ...          147\n",
              "10             Odisha  ...            3\n",
              "11         Puducherry  ...            1\n",
              "12             Punjab  ...           29\n",
              "13          Rajasthan  ...           43\n",
              "14         Tamil Nadu  ...           35\n",
              "15          Telengana  ...           45\n",
              "16         Chandigarh  ...            7\n",
              "17  Jammu and Kashmir  ...           18\n",
              "18             Ladakh  ...           13\n",
              "19      Uttar Pradesh  ...           43\n",
              "20        Uttarakhand  ...            4\n",
              "21        West Bengal  ...           11\n",
              "22              Bihar  ...            7\n",
              "23            Mizoram  ...            1\n",
              "24                Goa  ...            6\n",
              "25            Manipur  ...            1\n",
              "\n",
              "[26 rows x 6 columns]"
            ]
          },
          "metadata": {
            "tags": []
          },
          "execution_count": 19
        }
      ]
    },
    {
      "cell_type": "code",
      "metadata": {
        "id": "UVp7sfoMpS6b",
        "colab_type": "code",
        "outputId": "a4025a4a-6eb5-484f-863a-505bd88cce04",
        "colab": {
          "base_uri": "https://localhost:8080/",
          "height": 34
        }
      },
      "source": [
        " total_cases_overall = df['Total cases'].sum()\n",
        " print(\"total cases overall in India: \",total_cases_overall)"
      ],
      "execution_count": 0,
      "outputs": [
        {
          "output_type": "stream",
          "text": [
            "total cases overall in India:  729\n"
          ],
          "name": "stdout"
        }
      ]
    },
    {
      "cell_type": "code",
      "metadata": {
        "id": "t_CDRbXgpl8D",
        "colab_type": "code",
        "colab": {}
      },
      "source": [
        "df['Active cases']= df['Total cases']-df['Death']-df['Cured']"
      ],
      "execution_count": 0,
      "outputs": []
    },
    {
      "cell_type": "code",
      "metadata": {
        "id": "wO_0CK6Dq96a",
        "colab_type": "code",
        "outputId": "80032a31-bf1a-4507-e15f-95e28ae151d1",
        "colab": {
          "base_uri": "https://localhost:8080/",
          "height": 817
        }
      },
      "source": [
        "df"
      ],
      "execution_count": 0,
      "outputs": [
        {
          "output_type": "execute_result",
          "data": {
            "text/html": [
              "<div>\n",
              "<style scoped>\n",
              "    .dataframe tbody tr th:only-of-type {\n",
              "        vertical-align: middle;\n",
              "    }\n",
              "\n",
              "    .dataframe tbody tr th {\n",
              "        vertical-align: top;\n",
              "    }\n",
              "\n",
              "    .dataframe thead th {\n",
              "        text-align: right;\n",
              "    }\n",
              "</style>\n",
              "<table border=\"1\" class=\"dataframe\">\n",
              "  <thead>\n",
              "    <tr style=\"text-align: right;\">\n",
              "      <th></th>\n",
              "      <th>Name of State / UT</th>\n",
              "      <th>Total Confirmed cases (Indian National)</th>\n",
              "      <th>Total Confirmed cases ( Foreign National )</th>\n",
              "      <th>Cured</th>\n",
              "      <th>Death</th>\n",
              "      <th>Total cases</th>\n",
              "      <th>Active cases</th>\n",
              "    </tr>\n",
              "  </thead>\n",
              "  <tbody>\n",
              "    <tr>\n",
              "      <th>0</th>\n",
              "      <td>Andhra Pradesh</td>\n",
              "      <td>12</td>\n",
              "      <td>0</td>\n",
              "      <td>1</td>\n",
              "      <td>0</td>\n",
              "      <td>12</td>\n",
              "      <td>11</td>\n",
              "    </tr>\n",
              "    <tr>\n",
              "      <th>1</th>\n",
              "      <td>Chhattisgarh</td>\n",
              "      <td>6</td>\n",
              "      <td>0</td>\n",
              "      <td>0</td>\n",
              "      <td>0</td>\n",
              "      <td>6</td>\n",
              "      <td>6</td>\n",
              "    </tr>\n",
              "    <tr>\n",
              "      <th>2</th>\n",
              "      <td>Delhi</td>\n",
              "      <td>38</td>\n",
              "      <td>1</td>\n",
              "      <td>6</td>\n",
              "      <td>1</td>\n",
              "      <td>39</td>\n",
              "      <td>32</td>\n",
              "    </tr>\n",
              "    <tr>\n",
              "      <th>3</th>\n",
              "      <td>Gujarat</td>\n",
              "      <td>43</td>\n",
              "      <td>0</td>\n",
              "      <td>0</td>\n",
              "      <td>3</td>\n",
              "      <td>43</td>\n",
              "      <td>40</td>\n",
              "    </tr>\n",
              "    <tr>\n",
              "      <th>4</th>\n",
              "      <td>Haryana</td>\n",
              "      <td>16</td>\n",
              "      <td>14</td>\n",
              "      <td>11</td>\n",
              "      <td>0</td>\n",
              "      <td>30</td>\n",
              "      <td>19</td>\n",
              "    </tr>\n",
              "    <tr>\n",
              "      <th>5</th>\n",
              "      <td>Himachal Pradesh</td>\n",
              "      <td>4</td>\n",
              "      <td>0</td>\n",
              "      <td>0</td>\n",
              "      <td>1</td>\n",
              "      <td>4</td>\n",
              "      <td>3</td>\n",
              "    </tr>\n",
              "    <tr>\n",
              "      <th>6</th>\n",
              "      <td>Karnataka</td>\n",
              "      <td>20</td>\n",
              "      <td>0</td>\n",
              "      <td>3</td>\n",
              "      <td>2</td>\n",
              "      <td>20</td>\n",
              "      <td>15</td>\n",
              "    </tr>\n",
              "    <tr>\n",
              "      <th>7</th>\n",
              "      <td>Kerala</td>\n",
              "      <td>131</td>\n",
              "      <td>7</td>\n",
              "      <td>11</td>\n",
              "      <td>0</td>\n",
              "      <td>138</td>\n",
              "      <td>127</td>\n",
              "    </tr>\n",
              "    <tr>\n",
              "      <th>8</th>\n",
              "      <td>Madhya Pradesh</td>\n",
              "      <td>23</td>\n",
              "      <td>0</td>\n",
              "      <td>0</td>\n",
              "      <td>1</td>\n",
              "      <td>23</td>\n",
              "      <td>22</td>\n",
              "    </tr>\n",
              "    <tr>\n",
              "      <th>9</th>\n",
              "      <td>Maharashtra</td>\n",
              "      <td>144</td>\n",
              "      <td>3</td>\n",
              "      <td>15</td>\n",
              "      <td>4</td>\n",
              "      <td>147</td>\n",
              "      <td>128</td>\n",
              "    </tr>\n",
              "    <tr>\n",
              "      <th>10</th>\n",
              "      <td>Odisha</td>\n",
              "      <td>3</td>\n",
              "      <td>0</td>\n",
              "      <td>0</td>\n",
              "      <td>0</td>\n",
              "      <td>3</td>\n",
              "      <td>3</td>\n",
              "    </tr>\n",
              "    <tr>\n",
              "      <th>11</th>\n",
              "      <td>Puducherry</td>\n",
              "      <td>1</td>\n",
              "      <td>0</td>\n",
              "      <td>0</td>\n",
              "      <td>0</td>\n",
              "      <td>1</td>\n",
              "      <td>1</td>\n",
              "    </tr>\n",
              "    <tr>\n",
              "      <th>12</th>\n",
              "      <td>Punjab</td>\n",
              "      <td>29</td>\n",
              "      <td>0</td>\n",
              "      <td>0</td>\n",
              "      <td>1</td>\n",
              "      <td>29</td>\n",
              "      <td>28</td>\n",
              "    </tr>\n",
              "    <tr>\n",
              "      <th>13</th>\n",
              "      <td>Rajasthan</td>\n",
              "      <td>41</td>\n",
              "      <td>2</td>\n",
              "      <td>3</td>\n",
              "      <td>0</td>\n",
              "      <td>43</td>\n",
              "      <td>40</td>\n",
              "    </tr>\n",
              "    <tr>\n",
              "      <th>14</th>\n",
              "      <td>Tamil Nadu</td>\n",
              "      <td>32</td>\n",
              "      <td>3</td>\n",
              "      <td>1</td>\n",
              "      <td>1</td>\n",
              "      <td>35</td>\n",
              "      <td>33</td>\n",
              "    </tr>\n",
              "    <tr>\n",
              "      <th>15</th>\n",
              "      <td>Telengana</td>\n",
              "      <td>34</td>\n",
              "      <td>11</td>\n",
              "      <td>1</td>\n",
              "      <td>0</td>\n",
              "      <td>45</td>\n",
              "      <td>44</td>\n",
              "    </tr>\n",
              "    <tr>\n",
              "      <th>16</th>\n",
              "      <td>Chandigarh</td>\n",
              "      <td>7</td>\n",
              "      <td>0</td>\n",
              "      <td>0</td>\n",
              "      <td>0</td>\n",
              "      <td>7</td>\n",
              "      <td>7</td>\n",
              "    </tr>\n",
              "    <tr>\n",
              "      <th>17</th>\n",
              "      <td>Jammu and Kashmir</td>\n",
              "      <td>18</td>\n",
              "      <td>0</td>\n",
              "      <td>1</td>\n",
              "      <td>1</td>\n",
              "      <td>18</td>\n",
              "      <td>16</td>\n",
              "    </tr>\n",
              "    <tr>\n",
              "      <th>18</th>\n",
              "      <td>Ladakh</td>\n",
              "      <td>13</td>\n",
              "      <td>0</td>\n",
              "      <td>0</td>\n",
              "      <td>0</td>\n",
              "      <td>13</td>\n",
              "      <td>13</td>\n",
              "    </tr>\n",
              "    <tr>\n",
              "      <th>19</th>\n",
              "      <td>Uttar Pradesh</td>\n",
              "      <td>42</td>\n",
              "      <td>1</td>\n",
              "      <td>11</td>\n",
              "      <td>0</td>\n",
              "      <td>43</td>\n",
              "      <td>32</td>\n",
              "    </tr>\n",
              "    <tr>\n",
              "      <th>20</th>\n",
              "      <td>Uttarakhand</td>\n",
              "      <td>4</td>\n",
              "      <td>0</td>\n",
              "      <td>0</td>\n",
              "      <td>0</td>\n",
              "      <td>4</td>\n",
              "      <td>4</td>\n",
              "    </tr>\n",
              "    <tr>\n",
              "      <th>21</th>\n",
              "      <td>West Bengal</td>\n",
              "      <td>11</td>\n",
              "      <td>0</td>\n",
              "      <td>0</td>\n",
              "      <td>1</td>\n",
              "      <td>11</td>\n",
              "      <td>10</td>\n",
              "    </tr>\n",
              "    <tr>\n",
              "      <th>22</th>\n",
              "      <td>Bihar</td>\n",
              "      <td>7</td>\n",
              "      <td>0</td>\n",
              "      <td>0</td>\n",
              "      <td>1</td>\n",
              "      <td>7</td>\n",
              "      <td>6</td>\n",
              "    </tr>\n",
              "    <tr>\n",
              "      <th>23</th>\n",
              "      <td>Mizoram</td>\n",
              "      <td>1</td>\n",
              "      <td>0</td>\n",
              "      <td>0</td>\n",
              "      <td>0</td>\n",
              "      <td>1</td>\n",
              "      <td>1</td>\n",
              "    </tr>\n",
              "    <tr>\n",
              "      <th>24</th>\n",
              "      <td>Goa</td>\n",
              "      <td>6</td>\n",
              "      <td>0</td>\n",
              "      <td>0</td>\n",
              "      <td>0</td>\n",
              "      <td>6</td>\n",
              "      <td>6</td>\n",
              "    </tr>\n",
              "    <tr>\n",
              "      <th>25</th>\n",
              "      <td>Manipur</td>\n",
              "      <td>1</td>\n",
              "      <td>0</td>\n",
              "      <td>0</td>\n",
              "      <td>0</td>\n",
              "      <td>1</td>\n",
              "      <td>1</td>\n",
              "    </tr>\n",
              "  </tbody>\n",
              "</table>\n",
              "</div>"
            ],
            "text/plain": [
              "   Name of State / UT  ...  Active cases\n",
              "0      Andhra Pradesh  ...            11\n",
              "1        Chhattisgarh  ...             6\n",
              "2               Delhi  ...            32\n",
              "3             Gujarat  ...            40\n",
              "4             Haryana  ...            19\n",
              "5    Himachal Pradesh  ...             3\n",
              "6           Karnataka  ...            15\n",
              "7              Kerala  ...           127\n",
              "8      Madhya Pradesh  ...            22\n",
              "9         Maharashtra  ...           128\n",
              "10             Odisha  ...             3\n",
              "11         Puducherry  ...             1\n",
              "12             Punjab  ...            28\n",
              "13          Rajasthan  ...            40\n",
              "14         Tamil Nadu  ...            33\n",
              "15          Telengana  ...            44\n",
              "16         Chandigarh  ...             7\n",
              "17  Jammu and Kashmir  ...            16\n",
              "18             Ladakh  ...            13\n",
              "19      Uttar Pradesh  ...            32\n",
              "20        Uttarakhand  ...             4\n",
              "21        West Bengal  ...            10\n",
              "22              Bihar  ...             6\n",
              "23            Mizoram  ...             1\n",
              "24                Goa  ...             6\n",
              "25            Manipur  ...             1\n",
              "\n",
              "[26 rows x 7 columns]"
            ]
          },
          "metadata": {
            "tags": []
          },
          "execution_count": 26
        }
      ]
    },
    {
      "cell_type": "code",
      "metadata": {
        "id": "wSUL9-8dq-4f",
        "colab_type": "code",
        "outputId": "2e484ac9-26d9-4c29-bbbb-5a3f3754c481",
        "colab": {
          "base_uri": "https://localhost:8080/",
          "height": 558
        }
      },
      "source": [
        "df.style.background_gradient(cmap='Reds')"
      ],
      "execution_count": 0,
      "outputs": [
        {
          "output_type": "execute_result",
          "data": {
            "text/html": [
              "<style  type=\"text/css\" >\n",
              "    #T_d47ba7b8_77eb_11ea_a1ad_0242ac1c0002row0_col1 {\n",
              "            background-color:  #fee8de;\n",
              "            color:  #000000;\n",
              "        }    #T_d47ba7b8_77eb_11ea_a1ad_0242ac1c0002row0_col2 {\n",
              "            background-color:  #fff5f0;\n",
              "            color:  #000000;\n",
              "        }    #T_d47ba7b8_77eb_11ea_a1ad_0242ac1c0002row0_col3 {\n",
              "            background-color:  #feeae0;\n",
              "            color:  #000000;\n",
              "        }    #T_d47ba7b8_77eb_11ea_a1ad_0242ac1c0002row0_col4 {\n",
              "            background-color:  #fff5f0;\n",
              "            color:  #000000;\n",
              "        }    #T_d47ba7b8_77eb_11ea_a1ad_0242ac1c0002row0_col5 {\n",
              "            background-color:  #fee8de;\n",
              "            color:  #000000;\n",
              "        }    #T_d47ba7b8_77eb_11ea_a1ad_0242ac1c0002row0_col6 {\n",
              "            background-color:  #fee8dd;\n",
              "            color:  #000000;\n",
              "        }    #T_d47ba7b8_77eb_11ea_a1ad_0242ac1c0002row1_col1 {\n",
              "            background-color:  #fff0e8;\n",
              "            color:  #000000;\n",
              "        }    #T_d47ba7b8_77eb_11ea_a1ad_0242ac1c0002row1_col2 {\n",
              "            background-color:  #fff5f0;\n",
              "            color:  #000000;\n",
              "        }    #T_d47ba7b8_77eb_11ea_a1ad_0242ac1c0002row1_col3 {\n",
              "            background-color:  #fff5f0;\n",
              "            color:  #000000;\n",
              "        }    #T_d47ba7b8_77eb_11ea_a1ad_0242ac1c0002row1_col4 {\n",
              "            background-color:  #fff5f0;\n",
              "            color:  #000000;\n",
              "        }    #T_d47ba7b8_77eb_11ea_a1ad_0242ac1c0002row1_col5 {\n",
              "            background-color:  #fff0e8;\n",
              "            color:  #000000;\n",
              "        }    #T_d47ba7b8_77eb_11ea_a1ad_0242ac1c0002row1_col6 {\n",
              "            background-color:  #ffeee7;\n",
              "            color:  #000000;\n",
              "        }    #T_d47ba7b8_77eb_11ea_a1ad_0242ac1c0002row2_col1 {\n",
              "            background-color:  #fcb89e;\n",
              "            color:  #000000;\n",
              "        }    #T_d47ba7b8_77eb_11ea_a1ad_0242ac1c0002row2_col2 {\n",
              "            background-color:  #fee9df;\n",
              "            color:  #000000;\n",
              "        }    #T_d47ba7b8_77eb_11ea_a1ad_0242ac1c0002row2_col3 {\n",
              "            background-color:  #fc8a6a;\n",
              "            color:  #000000;\n",
              "        }    #T_d47ba7b8_77eb_11ea_a1ad_0242ac1c0002row2_col4 {\n",
              "            background-color:  #fcbba1;\n",
              "            color:  #000000;\n",
              "        }    #T_d47ba7b8_77eb_11ea_a1ad_0242ac1c0002row2_col5 {\n",
              "            background-color:  #fcb89e;\n",
              "            color:  #000000;\n",
              "        }    #T_d47ba7b8_77eb_11ea_a1ad_0242ac1c0002row2_col6 {\n",
              "            background-color:  #fcbda4;\n",
              "            color:  #000000;\n",
              "        }    #T_d47ba7b8_77eb_11ea_a1ad_0242ac1c0002row3_col1 {\n",
              "            background-color:  #fcad90;\n",
              "            color:  #000000;\n",
              "        }    #T_d47ba7b8_77eb_11ea_a1ad_0242ac1c0002row3_col2 {\n",
              "            background-color:  #fff5f0;\n",
              "            color:  #000000;\n",
              "        }    #T_d47ba7b8_77eb_11ea_a1ad_0242ac1c0002row3_col3 {\n",
              "            background-color:  #fff5f0;\n",
              "            color:  #000000;\n",
              "        }    #T_d47ba7b8_77eb_11ea_a1ad_0242ac1c0002row3_col4 {\n",
              "            background-color:  #ca181d;\n",
              "            color:  #f1f1f1;\n",
              "        }    #T_d47ba7b8_77eb_11ea_a1ad_0242ac1c0002row3_col5 {\n",
              "            background-color:  #fcaf93;\n",
              "            color:  #000000;\n",
              "        }    #T_d47ba7b8_77eb_11ea_a1ad_0242ac1c0002row3_col6 {\n",
              "            background-color:  #fca98c;\n",
              "            color:  #000000;\n",
              "        }    #T_d47ba7b8_77eb_11ea_a1ad_0242ac1c0002row4_col1 {\n",
              "            background-color:  #fee4d8;\n",
              "            color:  #000000;\n",
              "        }    #T_d47ba7b8_77eb_11ea_a1ad_0242ac1c0002row4_col2 {\n",
              "            background-color:  #67000d;\n",
              "            color:  #f1f1f1;\n",
              "        }    #T_d47ba7b8_77eb_11ea_a1ad_0242ac1c0002row4_col3 {\n",
              "            background-color:  #d01d1f;\n",
              "            color:  #f1f1f1;\n",
              "        }    #T_d47ba7b8_77eb_11ea_a1ad_0242ac1c0002row4_col4 {\n",
              "            background-color:  #fff5f0;\n",
              "            color:  #000000;\n",
              "        }    #T_d47ba7b8_77eb_11ea_a1ad_0242ac1c0002row4_col5 {\n",
              "            background-color:  #fdcbb6;\n",
              "            color:  #000000;\n",
              "        }    #T_d47ba7b8_77eb_11ea_a1ad_0242ac1c0002row4_col6 {\n",
              "            background-color:  #fedbcc;\n",
              "            color:  #000000;\n",
              "        }    #T_d47ba7b8_77eb_11ea_a1ad_0242ac1c0002row5_col1 {\n",
              "            background-color:  #fff2eb;\n",
              "            color:  #000000;\n",
              "        }    #T_d47ba7b8_77eb_11ea_a1ad_0242ac1c0002row5_col2 {\n",
              "            background-color:  #fff5f0;\n",
              "            color:  #000000;\n",
              "        }    #T_d47ba7b8_77eb_11ea_a1ad_0242ac1c0002row5_col3 {\n",
              "            background-color:  #fff5f0;\n",
              "            color:  #000000;\n",
              "        }    #T_d47ba7b8_77eb_11ea_a1ad_0242ac1c0002row5_col4 {\n",
              "            background-color:  #fcbba1;\n",
              "            color:  #000000;\n",
              "        }    #T_d47ba7b8_77eb_11ea_a1ad_0242ac1c0002row5_col5 {\n",
              "            background-color:  #fff2eb;\n",
              "            color:  #000000;\n",
              "        }    #T_d47ba7b8_77eb_11ea_a1ad_0242ac1c0002row5_col6 {\n",
              "            background-color:  #fff2ec;\n",
              "            color:  #000000;\n",
              "        }    #T_d47ba7b8_77eb_11ea_a1ad_0242ac1c0002row6_col1 {\n",
              "            background-color:  #fedecf;\n",
              "            color:  #000000;\n",
              "        }    #T_d47ba7b8_77eb_11ea_a1ad_0242ac1c0002row6_col2 {\n",
              "            background-color:  #fff5f0;\n",
              "            color:  #000000;\n",
              "        }    #T_d47ba7b8_77eb_11ea_a1ad_0242ac1c0002row6_col3 {\n",
              "            background-color:  #fdcab5;\n",
              "            color:  #000000;\n",
              "        }    #T_d47ba7b8_77eb_11ea_a1ad_0242ac1c0002row6_col4 {\n",
              "            background-color:  #fb694a;\n",
              "            color:  #000000;\n",
              "        }    #T_d47ba7b8_77eb_11ea_a1ad_0242ac1c0002row6_col5 {\n",
              "            background-color:  #fedfd0;\n",
              "            color:  #000000;\n",
              "        }    #T_d47ba7b8_77eb_11ea_a1ad_0242ac1c0002row6_col6 {\n",
              "            background-color:  #fee3d6;\n",
              "            color:  #000000;\n",
              "        }    #T_d47ba7b8_77eb_11ea_a1ad_0242ac1c0002row7_col1 {\n",
              "            background-color:  #940b13;\n",
              "            color:  #f1f1f1;\n",
              "        }    #T_d47ba7b8_77eb_11ea_a1ad_0242ac1c0002row7_col2 {\n",
              "            background-color:  #fb694a;\n",
              "            color:  #000000;\n",
              "        }    #T_d47ba7b8_77eb_11ea_a1ad_0242ac1c0002row7_col3 {\n",
              "            background-color:  #d01d1f;\n",
              "            color:  #f1f1f1;\n",
              "        }    #T_d47ba7b8_77eb_11ea_a1ad_0242ac1c0002row7_col4 {\n",
              "            background-color:  #fff5f0;\n",
              "            color:  #000000;\n",
              "        }    #T_d47ba7b8_77eb_11ea_a1ad_0242ac1c0002row7_col5 {\n",
              "            background-color:  #840711;\n",
              "            color:  #f1f1f1;\n",
              "        }    #T_d47ba7b8_77eb_11ea_a1ad_0242ac1c0002row7_col6 {\n",
              "            background-color:  #6b010e;\n",
              "            color:  #f1f1f1;\n",
              "        }    #T_d47ba7b8_77eb_11ea_a1ad_0242ac1c0002row8_col1 {\n",
              "            background-color:  #fed8c7;\n",
              "            color:  #000000;\n",
              "        }    #T_d47ba7b8_77eb_11ea_a1ad_0242ac1c0002row8_col2 {\n",
              "            background-color:  #fff5f0;\n",
              "            color:  #000000;\n",
              "        }    #T_d47ba7b8_77eb_11ea_a1ad_0242ac1c0002row8_col3 {\n",
              "            background-color:  #fff5f0;\n",
              "            color:  #000000;\n",
              "        }    #T_d47ba7b8_77eb_11ea_a1ad_0242ac1c0002row8_col4 {\n",
              "            background-color:  #fcbba1;\n",
              "            color:  #000000;\n",
              "        }    #T_d47ba7b8_77eb_11ea_a1ad_0242ac1c0002row8_col5 {\n",
              "            background-color:  #fed9c9;\n",
              "            color:  #000000;\n",
              "        }    #T_d47ba7b8_77eb_11ea_a1ad_0242ac1c0002row8_col6 {\n",
              "            background-color:  #fdd4c2;\n",
              "            color:  #000000;\n",
              "        }    #T_d47ba7b8_77eb_11ea_a1ad_0242ac1c0002row9_col1 {\n",
              "            background-color:  #67000d;\n",
              "            color:  #f1f1f1;\n",
              "        }    #T_d47ba7b8_77eb_11ea_a1ad_0242ac1c0002row9_col2 {\n",
              "            background-color:  #fdc6b0;\n",
              "            color:  #000000;\n",
              "        }    #T_d47ba7b8_77eb_11ea_a1ad_0242ac1c0002row9_col3 {\n",
              "            background-color:  #67000d;\n",
              "            color:  #f1f1f1;\n",
              "        }    #T_d47ba7b8_77eb_11ea_a1ad_0242ac1c0002row9_col4 {\n",
              "            background-color:  #67000d;\n",
              "            color:  #f1f1f1;\n",
              "        }    #T_d47ba7b8_77eb_11ea_a1ad_0242ac1c0002row9_col5 {\n",
              "            background-color:  #67000d;\n",
              "            color:  #f1f1f1;\n",
              "        }    #T_d47ba7b8_77eb_11ea_a1ad_0242ac1c0002row9_col6 {\n",
              "            background-color:  #67000d;\n",
              "            color:  #f1f1f1;\n",
              "        }    #T_d47ba7b8_77eb_11ea_a1ad_0242ac1c0002row10_col1 {\n",
              "            background-color:  #fff3ed;\n",
              "            color:  #000000;\n",
              "        }    #T_d47ba7b8_77eb_11ea_a1ad_0242ac1c0002row10_col2 {\n",
              "            background-color:  #fff5f0;\n",
              "            color:  #000000;\n",
              "        }    #T_d47ba7b8_77eb_11ea_a1ad_0242ac1c0002row10_col3 {\n",
              "            background-color:  #fff5f0;\n",
              "            color:  #000000;\n",
              "        }    #T_d47ba7b8_77eb_11ea_a1ad_0242ac1c0002row10_col4 {\n",
              "            background-color:  #fff5f0;\n",
              "            color:  #000000;\n",
              "        }    #T_d47ba7b8_77eb_11ea_a1ad_0242ac1c0002row10_col5 {\n",
              "            background-color:  #fff3ed;\n",
              "            color:  #000000;\n",
              "        }    #T_d47ba7b8_77eb_11ea_a1ad_0242ac1c0002row10_col6 {\n",
              "            background-color:  #fff2ec;\n",
              "            color:  #000000;\n",
              "        }    #T_d47ba7b8_77eb_11ea_a1ad_0242ac1c0002row11_col1 {\n",
              "            background-color:  #fff5f0;\n",
              "            color:  #000000;\n",
              "        }    #T_d47ba7b8_77eb_11ea_a1ad_0242ac1c0002row11_col2 {\n",
              "            background-color:  #fff5f0;\n",
              "            color:  #000000;\n",
              "        }    #T_d47ba7b8_77eb_11ea_a1ad_0242ac1c0002row11_col3 {\n",
              "            background-color:  #fff5f0;\n",
              "            color:  #000000;\n",
              "        }    #T_d47ba7b8_77eb_11ea_a1ad_0242ac1c0002row11_col4 {\n",
              "            background-color:  #fff5f0;\n",
              "            color:  #000000;\n",
              "        }    #T_d47ba7b8_77eb_11ea_a1ad_0242ac1c0002row11_col5 {\n",
              "            background-color:  #fff5f0;\n",
              "            color:  #000000;\n",
              "        }    #T_d47ba7b8_77eb_11ea_a1ad_0242ac1c0002row11_col6 {\n",
              "            background-color:  #fff5f0;\n",
              "            color:  #000000;\n",
              "        }    #T_d47ba7b8_77eb_11ea_a1ad_0242ac1c0002row12_col1 {\n",
              "            background-color:  #fdcbb6;\n",
              "            color:  #000000;\n",
              "        }    #T_d47ba7b8_77eb_11ea_a1ad_0242ac1c0002row12_col2 {\n",
              "            background-color:  #fff5f0;\n",
              "            color:  #000000;\n",
              "        }    #T_d47ba7b8_77eb_11ea_a1ad_0242ac1c0002row12_col3 {\n",
              "            background-color:  #fff5f0;\n",
              "            color:  #000000;\n",
              "        }    #T_d47ba7b8_77eb_11ea_a1ad_0242ac1c0002row12_col4 {\n",
              "            background-color:  #fcbba1;\n",
              "            color:  #000000;\n",
              "        }    #T_d47ba7b8_77eb_11ea_a1ad_0242ac1c0002row12_col5 {\n",
              "            background-color:  #fdccb8;\n",
              "            color:  #000000;\n",
              "        }    #T_d47ba7b8_77eb_11ea_a1ad_0242ac1c0002row12_col6 {\n",
              "            background-color:  #fdc6b0;\n",
              "            color:  #000000;\n",
              "        }    #T_d47ba7b8_77eb_11ea_a1ad_0242ac1c0002row13_col1 {\n",
              "            background-color:  #fcb296;\n",
              "            color:  #000000;\n",
              "        }    #T_d47ba7b8_77eb_11ea_a1ad_0242ac1c0002row13_col2 {\n",
              "            background-color:  #fedbcc;\n",
              "            color:  #000000;\n",
              "        }    #T_d47ba7b8_77eb_11ea_a1ad_0242ac1c0002row13_col3 {\n",
              "            background-color:  #fdcab5;\n",
              "            color:  #000000;\n",
              "        }    #T_d47ba7b8_77eb_11ea_a1ad_0242ac1c0002row13_col4 {\n",
              "            background-color:  #fff5f0;\n",
              "            color:  #000000;\n",
              "        }    #T_d47ba7b8_77eb_11ea_a1ad_0242ac1c0002row13_col5 {\n",
              "            background-color:  #fcaf93;\n",
              "            color:  #000000;\n",
              "        }    #T_d47ba7b8_77eb_11ea_a1ad_0242ac1c0002row13_col6 {\n",
              "            background-color:  #fca98c;\n",
              "            color:  #000000;\n",
              "        }    #T_d47ba7b8_77eb_11ea_a1ad_0242ac1c0002row14_col1 {\n",
              "            background-color:  #fdc5ae;\n",
              "            color:  #000000;\n",
              "        }    #T_d47ba7b8_77eb_11ea_a1ad_0242ac1c0002row14_col2 {\n",
              "            background-color:  #fdc6b0;\n",
              "            color:  #000000;\n",
              "        }    #T_d47ba7b8_77eb_11ea_a1ad_0242ac1c0002row14_col3 {\n",
              "            background-color:  #feeae0;\n",
              "            color:  #000000;\n",
              "        }    #T_d47ba7b8_77eb_11ea_a1ad_0242ac1c0002row14_col4 {\n",
              "            background-color:  #fcbba1;\n",
              "            color:  #000000;\n",
              "        }    #T_d47ba7b8_77eb_11ea_a1ad_0242ac1c0002row14_col5 {\n",
              "            background-color:  #fcc1a8;\n",
              "            color:  #000000;\n",
              "        }    #T_d47ba7b8_77eb_11ea_a1ad_0242ac1c0002row14_col6 {\n",
              "            background-color:  #fcbba1;\n",
              "            color:  #000000;\n",
              "        }    #T_d47ba7b8_77eb_11ea_a1ad_0242ac1c0002row15_col1 {\n",
              "            background-color:  #fcc1a8;\n",
              "            color:  #000000;\n",
              "        }    #T_d47ba7b8_77eb_11ea_a1ad_0242ac1c0002row15_col2 {\n",
              "            background-color:  #bf151b;\n",
              "            color:  #f1f1f1;\n",
              "        }    #T_d47ba7b8_77eb_11ea_a1ad_0242ac1c0002row15_col3 {\n",
              "            background-color:  #feeae0;\n",
              "            color:  #000000;\n",
              "        }    #T_d47ba7b8_77eb_11ea_a1ad_0242ac1c0002row15_col4 {\n",
              "            background-color:  #fff5f0;\n",
              "            color:  #000000;\n",
              "        }    #T_d47ba7b8_77eb_11ea_a1ad_0242ac1c0002row15_col5 {\n",
              "            background-color:  #fcaa8d;\n",
              "            color:  #000000;\n",
              "        }    #T_d47ba7b8_77eb_11ea_a1ad_0242ac1c0002row15_col6 {\n",
              "            background-color:  #fc9e80;\n",
              "            color:  #000000;\n",
              "        }    #T_d47ba7b8_77eb_11ea_a1ad_0242ac1c0002row16_col1 {\n",
              "            background-color:  #ffeee7;\n",
              "            color:  #000000;\n",
              "        }    #T_d47ba7b8_77eb_11ea_a1ad_0242ac1c0002row16_col2 {\n",
              "            background-color:  #fff5f0;\n",
              "            color:  #000000;\n",
              "        }    #T_d47ba7b8_77eb_11ea_a1ad_0242ac1c0002row16_col3 {\n",
              "            background-color:  #fff5f0;\n",
              "            color:  #000000;\n",
              "        }    #T_d47ba7b8_77eb_11ea_a1ad_0242ac1c0002row16_col4 {\n",
              "            background-color:  #fff5f0;\n",
              "            color:  #000000;\n",
              "        }    #T_d47ba7b8_77eb_11ea_a1ad_0242ac1c0002row16_col5 {\n",
              "            background-color:  #ffeee7;\n",
              "            color:  #000000;\n",
              "        }    #T_d47ba7b8_77eb_11ea_a1ad_0242ac1c0002row16_col6 {\n",
              "            background-color:  #ffede5;\n",
              "            color:  #000000;\n",
              "        }    #T_d47ba7b8_77eb_11ea_a1ad_0242ac1c0002row17_col1 {\n",
              "            background-color:  #fee1d4;\n",
              "            color:  #000000;\n",
              "        }    #T_d47ba7b8_77eb_11ea_a1ad_0242ac1c0002row17_col2 {\n",
              "            background-color:  #fff5f0;\n",
              "            color:  #000000;\n",
              "        }    #T_d47ba7b8_77eb_11ea_a1ad_0242ac1c0002row17_col3 {\n",
              "            background-color:  #feeae0;\n",
              "            color:  #000000;\n",
              "        }    #T_d47ba7b8_77eb_11ea_a1ad_0242ac1c0002row17_col4 {\n",
              "            background-color:  #fcbba1;\n",
              "            color:  #000000;\n",
              "        }    #T_d47ba7b8_77eb_11ea_a1ad_0242ac1c0002row17_col5 {\n",
              "            background-color:  #fee2d5;\n",
              "            color:  #000000;\n",
              "        }    #T_d47ba7b8_77eb_11ea_a1ad_0242ac1c0002row17_col6 {\n",
              "            background-color:  #fee1d4;\n",
              "            color:  #000000;\n",
              "        }    #T_d47ba7b8_77eb_11ea_a1ad_0242ac1c0002row18_col1 {\n",
              "            background-color:  #fee7dc;\n",
              "            color:  #000000;\n",
              "        }    #T_d47ba7b8_77eb_11ea_a1ad_0242ac1c0002row18_col2 {\n",
              "            background-color:  #fff5f0;\n",
              "            color:  #000000;\n",
              "        }    #T_d47ba7b8_77eb_11ea_a1ad_0242ac1c0002row18_col3 {\n",
              "            background-color:  #fff5f0;\n",
              "            color:  #000000;\n",
              "        }    #T_d47ba7b8_77eb_11ea_a1ad_0242ac1c0002row18_col4 {\n",
              "            background-color:  #fff5f0;\n",
              "            color:  #000000;\n",
              "        }    #T_d47ba7b8_77eb_11ea_a1ad_0242ac1c0002row18_col5 {\n",
              "            background-color:  #fee7dc;\n",
              "            color:  #000000;\n",
              "        }    #T_d47ba7b8_77eb_11ea_a1ad_0242ac1c0002row18_col6 {\n",
              "            background-color:  #fee5d9;\n",
              "            color:  #000000;\n",
              "        }    #T_d47ba7b8_77eb_11ea_a1ad_0242ac1c0002row19_col1 {\n",
              "            background-color:  #fcaf93;\n",
              "            color:  #000000;\n",
              "        }    #T_d47ba7b8_77eb_11ea_a1ad_0242ac1c0002row19_col2 {\n",
              "            background-color:  #fee9df;\n",
              "            color:  #000000;\n",
              "        }    #T_d47ba7b8_77eb_11ea_a1ad_0242ac1c0002row19_col3 {\n",
              "            background-color:  #d01d1f;\n",
              "            color:  #f1f1f1;\n",
              "        }    #T_d47ba7b8_77eb_11ea_a1ad_0242ac1c0002row19_col4 {\n",
              "            background-color:  #fff5f0;\n",
              "            color:  #000000;\n",
              "        }    #T_d47ba7b8_77eb_11ea_a1ad_0242ac1c0002row19_col5 {\n",
              "            background-color:  #fcaf93;\n",
              "            color:  #000000;\n",
              "        }    #T_d47ba7b8_77eb_11ea_a1ad_0242ac1c0002row19_col6 {\n",
              "            background-color:  #fcbda4;\n",
              "            color:  #000000;\n",
              "        }    #T_d47ba7b8_77eb_11ea_a1ad_0242ac1c0002row20_col1 {\n",
              "            background-color:  #fff2eb;\n",
              "            color:  #000000;\n",
              "        }    #T_d47ba7b8_77eb_11ea_a1ad_0242ac1c0002row20_col2 {\n",
              "            background-color:  #fff5f0;\n",
              "            color:  #000000;\n",
              "        }    #T_d47ba7b8_77eb_11ea_a1ad_0242ac1c0002row20_col3 {\n",
              "            background-color:  #fff5f0;\n",
              "            color:  #000000;\n",
              "        }    #T_d47ba7b8_77eb_11ea_a1ad_0242ac1c0002row20_col4 {\n",
              "            background-color:  #fff5f0;\n",
              "            color:  #000000;\n",
              "        }    #T_d47ba7b8_77eb_11ea_a1ad_0242ac1c0002row20_col5 {\n",
              "            background-color:  #fff2eb;\n",
              "            color:  #000000;\n",
              "        }    #T_d47ba7b8_77eb_11ea_a1ad_0242ac1c0002row20_col6 {\n",
              "            background-color:  #fff1ea;\n",
              "            color:  #000000;\n",
              "        }    #T_d47ba7b8_77eb_11ea_a1ad_0242ac1c0002row21_col1 {\n",
              "            background-color:  #feeae0;\n",
              "            color:  #000000;\n",
              "        }    #T_d47ba7b8_77eb_11ea_a1ad_0242ac1c0002row21_col2 {\n",
              "            background-color:  #fff5f0;\n",
              "            color:  #000000;\n",
              "        }    #T_d47ba7b8_77eb_11ea_a1ad_0242ac1c0002row21_col3 {\n",
              "            background-color:  #fff5f0;\n",
              "            color:  #000000;\n",
              "        }    #T_d47ba7b8_77eb_11ea_a1ad_0242ac1c0002row21_col4 {\n",
              "            background-color:  #fcbba1;\n",
              "            color:  #000000;\n",
              "        }    #T_d47ba7b8_77eb_11ea_a1ad_0242ac1c0002row21_col5 {\n",
              "            background-color:  #feeae0;\n",
              "            color:  #000000;\n",
              "        }    #T_d47ba7b8_77eb_11ea_a1ad_0242ac1c0002row21_col6 {\n",
              "            background-color:  #fee9df;\n",
              "            color:  #000000;\n",
              "        }    #T_d47ba7b8_77eb_11ea_a1ad_0242ac1c0002row22_col1 {\n",
              "            background-color:  #ffeee7;\n",
              "            color:  #000000;\n",
              "        }    #T_d47ba7b8_77eb_11ea_a1ad_0242ac1c0002row22_col2 {\n",
              "            background-color:  #fff5f0;\n",
              "            color:  #000000;\n",
              "        }    #T_d47ba7b8_77eb_11ea_a1ad_0242ac1c0002row22_col3 {\n",
              "            background-color:  #fff5f0;\n",
              "            color:  #000000;\n",
              "        }    #T_d47ba7b8_77eb_11ea_a1ad_0242ac1c0002row22_col4 {\n",
              "            background-color:  #fcbba1;\n",
              "            color:  #000000;\n",
              "        }    #T_d47ba7b8_77eb_11ea_a1ad_0242ac1c0002row22_col5 {\n",
              "            background-color:  #ffeee7;\n",
              "            color:  #000000;\n",
              "        }    #T_d47ba7b8_77eb_11ea_a1ad_0242ac1c0002row22_col6 {\n",
              "            background-color:  #ffeee7;\n",
              "            color:  #000000;\n",
              "        }    #T_d47ba7b8_77eb_11ea_a1ad_0242ac1c0002row23_col1 {\n",
              "            background-color:  #fff5f0;\n",
              "            color:  #000000;\n",
              "        }    #T_d47ba7b8_77eb_11ea_a1ad_0242ac1c0002row23_col2 {\n",
              "            background-color:  #fff5f0;\n",
              "            color:  #000000;\n",
              "        }    #T_d47ba7b8_77eb_11ea_a1ad_0242ac1c0002row23_col3 {\n",
              "            background-color:  #fff5f0;\n",
              "            color:  #000000;\n",
              "        }    #T_d47ba7b8_77eb_11ea_a1ad_0242ac1c0002row23_col4 {\n",
              "            background-color:  #fff5f0;\n",
              "            color:  #000000;\n",
              "        }    #T_d47ba7b8_77eb_11ea_a1ad_0242ac1c0002row23_col5 {\n",
              "            background-color:  #fff5f0;\n",
              "            color:  #000000;\n",
              "        }    #T_d47ba7b8_77eb_11ea_a1ad_0242ac1c0002row23_col6 {\n",
              "            background-color:  #fff5f0;\n",
              "            color:  #000000;\n",
              "        }    #T_d47ba7b8_77eb_11ea_a1ad_0242ac1c0002row24_col1 {\n",
              "            background-color:  #fff0e8;\n",
              "            color:  #000000;\n",
              "        }    #T_d47ba7b8_77eb_11ea_a1ad_0242ac1c0002row24_col2 {\n",
              "            background-color:  #fff5f0;\n",
              "            color:  #000000;\n",
              "        }    #T_d47ba7b8_77eb_11ea_a1ad_0242ac1c0002row24_col3 {\n",
              "            background-color:  #fff5f0;\n",
              "            color:  #000000;\n",
              "        }    #T_d47ba7b8_77eb_11ea_a1ad_0242ac1c0002row24_col4 {\n",
              "            background-color:  #fff5f0;\n",
              "            color:  #000000;\n",
              "        }    #T_d47ba7b8_77eb_11ea_a1ad_0242ac1c0002row24_col5 {\n",
              "            background-color:  #fff0e8;\n",
              "            color:  #000000;\n",
              "        }    #T_d47ba7b8_77eb_11ea_a1ad_0242ac1c0002row24_col6 {\n",
              "            background-color:  #ffeee7;\n",
              "            color:  #000000;\n",
              "        }    #T_d47ba7b8_77eb_11ea_a1ad_0242ac1c0002row25_col1 {\n",
              "            background-color:  #fff5f0;\n",
              "            color:  #000000;\n",
              "        }    #T_d47ba7b8_77eb_11ea_a1ad_0242ac1c0002row25_col2 {\n",
              "            background-color:  #fff5f0;\n",
              "            color:  #000000;\n",
              "        }    #T_d47ba7b8_77eb_11ea_a1ad_0242ac1c0002row25_col3 {\n",
              "            background-color:  #fff5f0;\n",
              "            color:  #000000;\n",
              "        }    #T_d47ba7b8_77eb_11ea_a1ad_0242ac1c0002row25_col4 {\n",
              "            background-color:  #fff5f0;\n",
              "            color:  #000000;\n",
              "        }    #T_d47ba7b8_77eb_11ea_a1ad_0242ac1c0002row25_col5 {\n",
              "            background-color:  #fff5f0;\n",
              "            color:  #000000;\n",
              "        }    #T_d47ba7b8_77eb_11ea_a1ad_0242ac1c0002row25_col6 {\n",
              "            background-color:  #fff5f0;\n",
              "            color:  #000000;\n",
              "        }</style><table id=\"T_d47ba7b8_77eb_11ea_a1ad_0242ac1c0002\" ><thead>    <tr>        <th class=\"blank level0\" ></th>        <th class=\"col_heading level0 col0\" >Name of State / UT</th>        <th class=\"col_heading level0 col1\" >Total Confirmed cases (Indian National)</th>        <th class=\"col_heading level0 col2\" >Total Confirmed cases ( Foreign National )</th>        <th class=\"col_heading level0 col3\" >Cured</th>        <th class=\"col_heading level0 col4\" >Death</th>        <th class=\"col_heading level0 col5\" >Total cases</th>        <th class=\"col_heading level0 col6\" >Active cases</th>    </tr></thead><tbody>\n",
              "                <tr>\n",
              "                        <th id=\"T_d47ba7b8_77eb_11ea_a1ad_0242ac1c0002level0_row0\" class=\"row_heading level0 row0\" >0</th>\n",
              "                        <td id=\"T_d47ba7b8_77eb_11ea_a1ad_0242ac1c0002row0_col0\" class=\"data row0 col0\" >Andhra Pradesh</td>\n",
              "                        <td id=\"T_d47ba7b8_77eb_11ea_a1ad_0242ac1c0002row0_col1\" class=\"data row0 col1\" >12</td>\n",
              "                        <td id=\"T_d47ba7b8_77eb_11ea_a1ad_0242ac1c0002row0_col2\" class=\"data row0 col2\" >0</td>\n",
              "                        <td id=\"T_d47ba7b8_77eb_11ea_a1ad_0242ac1c0002row0_col3\" class=\"data row0 col3\" >1</td>\n",
              "                        <td id=\"T_d47ba7b8_77eb_11ea_a1ad_0242ac1c0002row0_col4\" class=\"data row0 col4\" >0</td>\n",
              "                        <td id=\"T_d47ba7b8_77eb_11ea_a1ad_0242ac1c0002row0_col5\" class=\"data row0 col5\" >12</td>\n",
              "                        <td id=\"T_d47ba7b8_77eb_11ea_a1ad_0242ac1c0002row0_col6\" class=\"data row0 col6\" >11</td>\n",
              "            </tr>\n",
              "            <tr>\n",
              "                        <th id=\"T_d47ba7b8_77eb_11ea_a1ad_0242ac1c0002level0_row1\" class=\"row_heading level0 row1\" >1</th>\n",
              "                        <td id=\"T_d47ba7b8_77eb_11ea_a1ad_0242ac1c0002row1_col0\" class=\"data row1 col0\" >Chhattisgarh</td>\n",
              "                        <td id=\"T_d47ba7b8_77eb_11ea_a1ad_0242ac1c0002row1_col1\" class=\"data row1 col1\" >6</td>\n",
              "                        <td id=\"T_d47ba7b8_77eb_11ea_a1ad_0242ac1c0002row1_col2\" class=\"data row1 col2\" >0</td>\n",
              "                        <td id=\"T_d47ba7b8_77eb_11ea_a1ad_0242ac1c0002row1_col3\" class=\"data row1 col3\" >0</td>\n",
              "                        <td id=\"T_d47ba7b8_77eb_11ea_a1ad_0242ac1c0002row1_col4\" class=\"data row1 col4\" >0</td>\n",
              "                        <td id=\"T_d47ba7b8_77eb_11ea_a1ad_0242ac1c0002row1_col5\" class=\"data row1 col5\" >6</td>\n",
              "                        <td id=\"T_d47ba7b8_77eb_11ea_a1ad_0242ac1c0002row1_col6\" class=\"data row1 col6\" >6</td>\n",
              "            </tr>\n",
              "            <tr>\n",
              "                        <th id=\"T_d47ba7b8_77eb_11ea_a1ad_0242ac1c0002level0_row2\" class=\"row_heading level0 row2\" >2</th>\n",
              "                        <td id=\"T_d47ba7b8_77eb_11ea_a1ad_0242ac1c0002row2_col0\" class=\"data row2 col0\" >Delhi</td>\n",
              "                        <td id=\"T_d47ba7b8_77eb_11ea_a1ad_0242ac1c0002row2_col1\" class=\"data row2 col1\" >38</td>\n",
              "                        <td id=\"T_d47ba7b8_77eb_11ea_a1ad_0242ac1c0002row2_col2\" class=\"data row2 col2\" >1</td>\n",
              "                        <td id=\"T_d47ba7b8_77eb_11ea_a1ad_0242ac1c0002row2_col3\" class=\"data row2 col3\" >6</td>\n",
              "                        <td id=\"T_d47ba7b8_77eb_11ea_a1ad_0242ac1c0002row2_col4\" class=\"data row2 col4\" >1</td>\n",
              "                        <td id=\"T_d47ba7b8_77eb_11ea_a1ad_0242ac1c0002row2_col5\" class=\"data row2 col5\" >39</td>\n",
              "                        <td id=\"T_d47ba7b8_77eb_11ea_a1ad_0242ac1c0002row2_col6\" class=\"data row2 col6\" >32</td>\n",
              "            </tr>\n",
              "            <tr>\n",
              "                        <th id=\"T_d47ba7b8_77eb_11ea_a1ad_0242ac1c0002level0_row3\" class=\"row_heading level0 row3\" >3</th>\n",
              "                        <td id=\"T_d47ba7b8_77eb_11ea_a1ad_0242ac1c0002row3_col0\" class=\"data row3 col0\" >Gujarat</td>\n",
              "                        <td id=\"T_d47ba7b8_77eb_11ea_a1ad_0242ac1c0002row3_col1\" class=\"data row3 col1\" >43</td>\n",
              "                        <td id=\"T_d47ba7b8_77eb_11ea_a1ad_0242ac1c0002row3_col2\" class=\"data row3 col2\" >0</td>\n",
              "                        <td id=\"T_d47ba7b8_77eb_11ea_a1ad_0242ac1c0002row3_col3\" class=\"data row3 col3\" >0</td>\n",
              "                        <td id=\"T_d47ba7b8_77eb_11ea_a1ad_0242ac1c0002row3_col4\" class=\"data row3 col4\" >3</td>\n",
              "                        <td id=\"T_d47ba7b8_77eb_11ea_a1ad_0242ac1c0002row3_col5\" class=\"data row3 col5\" >43</td>\n",
              "                        <td id=\"T_d47ba7b8_77eb_11ea_a1ad_0242ac1c0002row3_col6\" class=\"data row3 col6\" >40</td>\n",
              "            </tr>\n",
              "            <tr>\n",
              "                        <th id=\"T_d47ba7b8_77eb_11ea_a1ad_0242ac1c0002level0_row4\" class=\"row_heading level0 row4\" >4</th>\n",
              "                        <td id=\"T_d47ba7b8_77eb_11ea_a1ad_0242ac1c0002row4_col0\" class=\"data row4 col0\" >Haryana</td>\n",
              "                        <td id=\"T_d47ba7b8_77eb_11ea_a1ad_0242ac1c0002row4_col1\" class=\"data row4 col1\" >16</td>\n",
              "                        <td id=\"T_d47ba7b8_77eb_11ea_a1ad_0242ac1c0002row4_col2\" class=\"data row4 col2\" >14</td>\n",
              "                        <td id=\"T_d47ba7b8_77eb_11ea_a1ad_0242ac1c0002row4_col3\" class=\"data row4 col3\" >11</td>\n",
              "                        <td id=\"T_d47ba7b8_77eb_11ea_a1ad_0242ac1c0002row4_col4\" class=\"data row4 col4\" >0</td>\n",
              "                        <td id=\"T_d47ba7b8_77eb_11ea_a1ad_0242ac1c0002row4_col5\" class=\"data row4 col5\" >30</td>\n",
              "                        <td id=\"T_d47ba7b8_77eb_11ea_a1ad_0242ac1c0002row4_col6\" class=\"data row4 col6\" >19</td>\n",
              "            </tr>\n",
              "            <tr>\n",
              "                        <th id=\"T_d47ba7b8_77eb_11ea_a1ad_0242ac1c0002level0_row5\" class=\"row_heading level0 row5\" >5</th>\n",
              "                        <td id=\"T_d47ba7b8_77eb_11ea_a1ad_0242ac1c0002row5_col0\" class=\"data row5 col0\" >Himachal Pradesh</td>\n",
              "                        <td id=\"T_d47ba7b8_77eb_11ea_a1ad_0242ac1c0002row5_col1\" class=\"data row5 col1\" >4</td>\n",
              "                        <td id=\"T_d47ba7b8_77eb_11ea_a1ad_0242ac1c0002row5_col2\" class=\"data row5 col2\" >0</td>\n",
              "                        <td id=\"T_d47ba7b8_77eb_11ea_a1ad_0242ac1c0002row5_col3\" class=\"data row5 col3\" >0</td>\n",
              "                        <td id=\"T_d47ba7b8_77eb_11ea_a1ad_0242ac1c0002row5_col4\" class=\"data row5 col4\" >1</td>\n",
              "                        <td id=\"T_d47ba7b8_77eb_11ea_a1ad_0242ac1c0002row5_col5\" class=\"data row5 col5\" >4</td>\n",
              "                        <td id=\"T_d47ba7b8_77eb_11ea_a1ad_0242ac1c0002row5_col6\" class=\"data row5 col6\" >3</td>\n",
              "            </tr>\n",
              "            <tr>\n",
              "                        <th id=\"T_d47ba7b8_77eb_11ea_a1ad_0242ac1c0002level0_row6\" class=\"row_heading level0 row6\" >6</th>\n",
              "                        <td id=\"T_d47ba7b8_77eb_11ea_a1ad_0242ac1c0002row6_col0\" class=\"data row6 col0\" >Karnataka</td>\n",
              "                        <td id=\"T_d47ba7b8_77eb_11ea_a1ad_0242ac1c0002row6_col1\" class=\"data row6 col1\" >20</td>\n",
              "                        <td id=\"T_d47ba7b8_77eb_11ea_a1ad_0242ac1c0002row6_col2\" class=\"data row6 col2\" >0</td>\n",
              "                        <td id=\"T_d47ba7b8_77eb_11ea_a1ad_0242ac1c0002row6_col3\" class=\"data row6 col3\" >3</td>\n",
              "                        <td id=\"T_d47ba7b8_77eb_11ea_a1ad_0242ac1c0002row6_col4\" class=\"data row6 col4\" >2</td>\n",
              "                        <td id=\"T_d47ba7b8_77eb_11ea_a1ad_0242ac1c0002row6_col5\" class=\"data row6 col5\" >20</td>\n",
              "                        <td id=\"T_d47ba7b8_77eb_11ea_a1ad_0242ac1c0002row6_col6\" class=\"data row6 col6\" >15</td>\n",
              "            </tr>\n",
              "            <tr>\n",
              "                        <th id=\"T_d47ba7b8_77eb_11ea_a1ad_0242ac1c0002level0_row7\" class=\"row_heading level0 row7\" >7</th>\n",
              "                        <td id=\"T_d47ba7b8_77eb_11ea_a1ad_0242ac1c0002row7_col0\" class=\"data row7 col0\" >Kerala</td>\n",
              "                        <td id=\"T_d47ba7b8_77eb_11ea_a1ad_0242ac1c0002row7_col1\" class=\"data row7 col1\" >131</td>\n",
              "                        <td id=\"T_d47ba7b8_77eb_11ea_a1ad_0242ac1c0002row7_col2\" class=\"data row7 col2\" >7</td>\n",
              "                        <td id=\"T_d47ba7b8_77eb_11ea_a1ad_0242ac1c0002row7_col3\" class=\"data row7 col3\" >11</td>\n",
              "                        <td id=\"T_d47ba7b8_77eb_11ea_a1ad_0242ac1c0002row7_col4\" class=\"data row7 col4\" >0</td>\n",
              "                        <td id=\"T_d47ba7b8_77eb_11ea_a1ad_0242ac1c0002row7_col5\" class=\"data row7 col5\" >138</td>\n",
              "                        <td id=\"T_d47ba7b8_77eb_11ea_a1ad_0242ac1c0002row7_col6\" class=\"data row7 col6\" >127</td>\n",
              "            </tr>\n",
              "            <tr>\n",
              "                        <th id=\"T_d47ba7b8_77eb_11ea_a1ad_0242ac1c0002level0_row8\" class=\"row_heading level0 row8\" >8</th>\n",
              "                        <td id=\"T_d47ba7b8_77eb_11ea_a1ad_0242ac1c0002row8_col0\" class=\"data row8 col0\" >Madhya Pradesh</td>\n",
              "                        <td id=\"T_d47ba7b8_77eb_11ea_a1ad_0242ac1c0002row8_col1\" class=\"data row8 col1\" >23</td>\n",
              "                        <td id=\"T_d47ba7b8_77eb_11ea_a1ad_0242ac1c0002row8_col2\" class=\"data row8 col2\" >0</td>\n",
              "                        <td id=\"T_d47ba7b8_77eb_11ea_a1ad_0242ac1c0002row8_col3\" class=\"data row8 col3\" >0</td>\n",
              "                        <td id=\"T_d47ba7b8_77eb_11ea_a1ad_0242ac1c0002row8_col4\" class=\"data row8 col4\" >1</td>\n",
              "                        <td id=\"T_d47ba7b8_77eb_11ea_a1ad_0242ac1c0002row8_col5\" class=\"data row8 col5\" >23</td>\n",
              "                        <td id=\"T_d47ba7b8_77eb_11ea_a1ad_0242ac1c0002row8_col6\" class=\"data row8 col6\" >22</td>\n",
              "            </tr>\n",
              "            <tr>\n",
              "                        <th id=\"T_d47ba7b8_77eb_11ea_a1ad_0242ac1c0002level0_row9\" class=\"row_heading level0 row9\" >9</th>\n",
              "                        <td id=\"T_d47ba7b8_77eb_11ea_a1ad_0242ac1c0002row9_col0\" class=\"data row9 col0\" >Maharashtra</td>\n",
              "                        <td id=\"T_d47ba7b8_77eb_11ea_a1ad_0242ac1c0002row9_col1\" class=\"data row9 col1\" >144</td>\n",
              "                        <td id=\"T_d47ba7b8_77eb_11ea_a1ad_0242ac1c0002row9_col2\" class=\"data row9 col2\" >3</td>\n",
              "                        <td id=\"T_d47ba7b8_77eb_11ea_a1ad_0242ac1c0002row9_col3\" class=\"data row9 col3\" >15</td>\n",
              "                        <td id=\"T_d47ba7b8_77eb_11ea_a1ad_0242ac1c0002row9_col4\" class=\"data row9 col4\" >4</td>\n",
              "                        <td id=\"T_d47ba7b8_77eb_11ea_a1ad_0242ac1c0002row9_col5\" class=\"data row9 col5\" >147</td>\n",
              "                        <td id=\"T_d47ba7b8_77eb_11ea_a1ad_0242ac1c0002row9_col6\" class=\"data row9 col6\" >128</td>\n",
              "            </tr>\n",
              "            <tr>\n",
              "                        <th id=\"T_d47ba7b8_77eb_11ea_a1ad_0242ac1c0002level0_row10\" class=\"row_heading level0 row10\" >10</th>\n",
              "                        <td id=\"T_d47ba7b8_77eb_11ea_a1ad_0242ac1c0002row10_col0\" class=\"data row10 col0\" >Odisha</td>\n",
              "                        <td id=\"T_d47ba7b8_77eb_11ea_a1ad_0242ac1c0002row10_col1\" class=\"data row10 col1\" >3</td>\n",
              "                        <td id=\"T_d47ba7b8_77eb_11ea_a1ad_0242ac1c0002row10_col2\" class=\"data row10 col2\" >0</td>\n",
              "                        <td id=\"T_d47ba7b8_77eb_11ea_a1ad_0242ac1c0002row10_col3\" class=\"data row10 col3\" >0</td>\n",
              "                        <td id=\"T_d47ba7b8_77eb_11ea_a1ad_0242ac1c0002row10_col4\" class=\"data row10 col4\" >0</td>\n",
              "                        <td id=\"T_d47ba7b8_77eb_11ea_a1ad_0242ac1c0002row10_col5\" class=\"data row10 col5\" >3</td>\n",
              "                        <td id=\"T_d47ba7b8_77eb_11ea_a1ad_0242ac1c0002row10_col6\" class=\"data row10 col6\" >3</td>\n",
              "            </tr>\n",
              "            <tr>\n",
              "                        <th id=\"T_d47ba7b8_77eb_11ea_a1ad_0242ac1c0002level0_row11\" class=\"row_heading level0 row11\" >11</th>\n",
              "                        <td id=\"T_d47ba7b8_77eb_11ea_a1ad_0242ac1c0002row11_col0\" class=\"data row11 col0\" >Puducherry</td>\n",
              "                        <td id=\"T_d47ba7b8_77eb_11ea_a1ad_0242ac1c0002row11_col1\" class=\"data row11 col1\" >1</td>\n",
              "                        <td id=\"T_d47ba7b8_77eb_11ea_a1ad_0242ac1c0002row11_col2\" class=\"data row11 col2\" >0</td>\n",
              "                        <td id=\"T_d47ba7b8_77eb_11ea_a1ad_0242ac1c0002row11_col3\" class=\"data row11 col3\" >0</td>\n",
              "                        <td id=\"T_d47ba7b8_77eb_11ea_a1ad_0242ac1c0002row11_col4\" class=\"data row11 col4\" >0</td>\n",
              "                        <td id=\"T_d47ba7b8_77eb_11ea_a1ad_0242ac1c0002row11_col5\" class=\"data row11 col5\" >1</td>\n",
              "                        <td id=\"T_d47ba7b8_77eb_11ea_a1ad_0242ac1c0002row11_col6\" class=\"data row11 col6\" >1</td>\n",
              "            </tr>\n",
              "            <tr>\n",
              "                        <th id=\"T_d47ba7b8_77eb_11ea_a1ad_0242ac1c0002level0_row12\" class=\"row_heading level0 row12\" >12</th>\n",
              "                        <td id=\"T_d47ba7b8_77eb_11ea_a1ad_0242ac1c0002row12_col0\" class=\"data row12 col0\" >Punjab</td>\n",
              "                        <td id=\"T_d47ba7b8_77eb_11ea_a1ad_0242ac1c0002row12_col1\" class=\"data row12 col1\" >29</td>\n",
              "                        <td id=\"T_d47ba7b8_77eb_11ea_a1ad_0242ac1c0002row12_col2\" class=\"data row12 col2\" >0</td>\n",
              "                        <td id=\"T_d47ba7b8_77eb_11ea_a1ad_0242ac1c0002row12_col3\" class=\"data row12 col3\" >0</td>\n",
              "                        <td id=\"T_d47ba7b8_77eb_11ea_a1ad_0242ac1c0002row12_col4\" class=\"data row12 col4\" >1</td>\n",
              "                        <td id=\"T_d47ba7b8_77eb_11ea_a1ad_0242ac1c0002row12_col5\" class=\"data row12 col5\" >29</td>\n",
              "                        <td id=\"T_d47ba7b8_77eb_11ea_a1ad_0242ac1c0002row12_col6\" class=\"data row12 col6\" >28</td>\n",
              "            </tr>\n",
              "            <tr>\n",
              "                        <th id=\"T_d47ba7b8_77eb_11ea_a1ad_0242ac1c0002level0_row13\" class=\"row_heading level0 row13\" >13</th>\n",
              "                        <td id=\"T_d47ba7b8_77eb_11ea_a1ad_0242ac1c0002row13_col0\" class=\"data row13 col0\" >Rajasthan</td>\n",
              "                        <td id=\"T_d47ba7b8_77eb_11ea_a1ad_0242ac1c0002row13_col1\" class=\"data row13 col1\" >41</td>\n",
              "                        <td id=\"T_d47ba7b8_77eb_11ea_a1ad_0242ac1c0002row13_col2\" class=\"data row13 col2\" >2</td>\n",
              "                        <td id=\"T_d47ba7b8_77eb_11ea_a1ad_0242ac1c0002row13_col3\" class=\"data row13 col3\" >3</td>\n",
              "                        <td id=\"T_d47ba7b8_77eb_11ea_a1ad_0242ac1c0002row13_col4\" class=\"data row13 col4\" >0</td>\n",
              "                        <td id=\"T_d47ba7b8_77eb_11ea_a1ad_0242ac1c0002row13_col5\" class=\"data row13 col5\" >43</td>\n",
              "                        <td id=\"T_d47ba7b8_77eb_11ea_a1ad_0242ac1c0002row13_col6\" class=\"data row13 col6\" >40</td>\n",
              "            </tr>\n",
              "            <tr>\n",
              "                        <th id=\"T_d47ba7b8_77eb_11ea_a1ad_0242ac1c0002level0_row14\" class=\"row_heading level0 row14\" >14</th>\n",
              "                        <td id=\"T_d47ba7b8_77eb_11ea_a1ad_0242ac1c0002row14_col0\" class=\"data row14 col0\" >Tamil Nadu</td>\n",
              "                        <td id=\"T_d47ba7b8_77eb_11ea_a1ad_0242ac1c0002row14_col1\" class=\"data row14 col1\" >32</td>\n",
              "                        <td id=\"T_d47ba7b8_77eb_11ea_a1ad_0242ac1c0002row14_col2\" class=\"data row14 col2\" >3</td>\n",
              "                        <td id=\"T_d47ba7b8_77eb_11ea_a1ad_0242ac1c0002row14_col3\" class=\"data row14 col3\" >1</td>\n",
              "                        <td id=\"T_d47ba7b8_77eb_11ea_a1ad_0242ac1c0002row14_col4\" class=\"data row14 col4\" >1</td>\n",
              "                        <td id=\"T_d47ba7b8_77eb_11ea_a1ad_0242ac1c0002row14_col5\" class=\"data row14 col5\" >35</td>\n",
              "                        <td id=\"T_d47ba7b8_77eb_11ea_a1ad_0242ac1c0002row14_col6\" class=\"data row14 col6\" >33</td>\n",
              "            </tr>\n",
              "            <tr>\n",
              "                        <th id=\"T_d47ba7b8_77eb_11ea_a1ad_0242ac1c0002level0_row15\" class=\"row_heading level0 row15\" >15</th>\n",
              "                        <td id=\"T_d47ba7b8_77eb_11ea_a1ad_0242ac1c0002row15_col0\" class=\"data row15 col0\" >Telengana</td>\n",
              "                        <td id=\"T_d47ba7b8_77eb_11ea_a1ad_0242ac1c0002row15_col1\" class=\"data row15 col1\" >34</td>\n",
              "                        <td id=\"T_d47ba7b8_77eb_11ea_a1ad_0242ac1c0002row15_col2\" class=\"data row15 col2\" >11</td>\n",
              "                        <td id=\"T_d47ba7b8_77eb_11ea_a1ad_0242ac1c0002row15_col3\" class=\"data row15 col3\" >1</td>\n",
              "                        <td id=\"T_d47ba7b8_77eb_11ea_a1ad_0242ac1c0002row15_col4\" class=\"data row15 col4\" >0</td>\n",
              "                        <td id=\"T_d47ba7b8_77eb_11ea_a1ad_0242ac1c0002row15_col5\" class=\"data row15 col5\" >45</td>\n",
              "                        <td id=\"T_d47ba7b8_77eb_11ea_a1ad_0242ac1c0002row15_col6\" class=\"data row15 col6\" >44</td>\n",
              "            </tr>\n",
              "            <tr>\n",
              "                        <th id=\"T_d47ba7b8_77eb_11ea_a1ad_0242ac1c0002level0_row16\" class=\"row_heading level0 row16\" >16</th>\n",
              "                        <td id=\"T_d47ba7b8_77eb_11ea_a1ad_0242ac1c0002row16_col0\" class=\"data row16 col0\" >Chandigarh</td>\n",
              "                        <td id=\"T_d47ba7b8_77eb_11ea_a1ad_0242ac1c0002row16_col1\" class=\"data row16 col1\" >7</td>\n",
              "                        <td id=\"T_d47ba7b8_77eb_11ea_a1ad_0242ac1c0002row16_col2\" class=\"data row16 col2\" >0</td>\n",
              "                        <td id=\"T_d47ba7b8_77eb_11ea_a1ad_0242ac1c0002row16_col3\" class=\"data row16 col3\" >0</td>\n",
              "                        <td id=\"T_d47ba7b8_77eb_11ea_a1ad_0242ac1c0002row16_col4\" class=\"data row16 col4\" >0</td>\n",
              "                        <td id=\"T_d47ba7b8_77eb_11ea_a1ad_0242ac1c0002row16_col5\" class=\"data row16 col5\" >7</td>\n",
              "                        <td id=\"T_d47ba7b8_77eb_11ea_a1ad_0242ac1c0002row16_col6\" class=\"data row16 col6\" >7</td>\n",
              "            </tr>\n",
              "            <tr>\n",
              "                        <th id=\"T_d47ba7b8_77eb_11ea_a1ad_0242ac1c0002level0_row17\" class=\"row_heading level0 row17\" >17</th>\n",
              "                        <td id=\"T_d47ba7b8_77eb_11ea_a1ad_0242ac1c0002row17_col0\" class=\"data row17 col0\" >Jammu and Kashmir</td>\n",
              "                        <td id=\"T_d47ba7b8_77eb_11ea_a1ad_0242ac1c0002row17_col1\" class=\"data row17 col1\" >18</td>\n",
              "                        <td id=\"T_d47ba7b8_77eb_11ea_a1ad_0242ac1c0002row17_col2\" class=\"data row17 col2\" >0</td>\n",
              "                        <td id=\"T_d47ba7b8_77eb_11ea_a1ad_0242ac1c0002row17_col3\" class=\"data row17 col3\" >1</td>\n",
              "                        <td id=\"T_d47ba7b8_77eb_11ea_a1ad_0242ac1c0002row17_col4\" class=\"data row17 col4\" >1</td>\n",
              "                        <td id=\"T_d47ba7b8_77eb_11ea_a1ad_0242ac1c0002row17_col5\" class=\"data row17 col5\" >18</td>\n",
              "                        <td id=\"T_d47ba7b8_77eb_11ea_a1ad_0242ac1c0002row17_col6\" class=\"data row17 col6\" >16</td>\n",
              "            </tr>\n",
              "            <tr>\n",
              "                        <th id=\"T_d47ba7b8_77eb_11ea_a1ad_0242ac1c0002level0_row18\" class=\"row_heading level0 row18\" >18</th>\n",
              "                        <td id=\"T_d47ba7b8_77eb_11ea_a1ad_0242ac1c0002row18_col0\" class=\"data row18 col0\" >Ladakh</td>\n",
              "                        <td id=\"T_d47ba7b8_77eb_11ea_a1ad_0242ac1c0002row18_col1\" class=\"data row18 col1\" >13</td>\n",
              "                        <td id=\"T_d47ba7b8_77eb_11ea_a1ad_0242ac1c0002row18_col2\" class=\"data row18 col2\" >0</td>\n",
              "                        <td id=\"T_d47ba7b8_77eb_11ea_a1ad_0242ac1c0002row18_col3\" class=\"data row18 col3\" >0</td>\n",
              "                        <td id=\"T_d47ba7b8_77eb_11ea_a1ad_0242ac1c0002row18_col4\" class=\"data row18 col4\" >0</td>\n",
              "                        <td id=\"T_d47ba7b8_77eb_11ea_a1ad_0242ac1c0002row18_col5\" class=\"data row18 col5\" >13</td>\n",
              "                        <td id=\"T_d47ba7b8_77eb_11ea_a1ad_0242ac1c0002row18_col6\" class=\"data row18 col6\" >13</td>\n",
              "            </tr>\n",
              "            <tr>\n",
              "                        <th id=\"T_d47ba7b8_77eb_11ea_a1ad_0242ac1c0002level0_row19\" class=\"row_heading level0 row19\" >19</th>\n",
              "                        <td id=\"T_d47ba7b8_77eb_11ea_a1ad_0242ac1c0002row19_col0\" class=\"data row19 col0\" >Uttar Pradesh</td>\n",
              "                        <td id=\"T_d47ba7b8_77eb_11ea_a1ad_0242ac1c0002row19_col1\" class=\"data row19 col1\" >42</td>\n",
              "                        <td id=\"T_d47ba7b8_77eb_11ea_a1ad_0242ac1c0002row19_col2\" class=\"data row19 col2\" >1</td>\n",
              "                        <td id=\"T_d47ba7b8_77eb_11ea_a1ad_0242ac1c0002row19_col3\" class=\"data row19 col3\" >11</td>\n",
              "                        <td id=\"T_d47ba7b8_77eb_11ea_a1ad_0242ac1c0002row19_col4\" class=\"data row19 col4\" >0</td>\n",
              "                        <td id=\"T_d47ba7b8_77eb_11ea_a1ad_0242ac1c0002row19_col5\" class=\"data row19 col5\" >43</td>\n",
              "                        <td id=\"T_d47ba7b8_77eb_11ea_a1ad_0242ac1c0002row19_col6\" class=\"data row19 col6\" >32</td>\n",
              "            </tr>\n",
              "            <tr>\n",
              "                        <th id=\"T_d47ba7b8_77eb_11ea_a1ad_0242ac1c0002level0_row20\" class=\"row_heading level0 row20\" >20</th>\n",
              "                        <td id=\"T_d47ba7b8_77eb_11ea_a1ad_0242ac1c0002row20_col0\" class=\"data row20 col0\" >Uttarakhand</td>\n",
              "                        <td id=\"T_d47ba7b8_77eb_11ea_a1ad_0242ac1c0002row20_col1\" class=\"data row20 col1\" >4</td>\n",
              "                        <td id=\"T_d47ba7b8_77eb_11ea_a1ad_0242ac1c0002row20_col2\" class=\"data row20 col2\" >0</td>\n",
              "                        <td id=\"T_d47ba7b8_77eb_11ea_a1ad_0242ac1c0002row20_col3\" class=\"data row20 col3\" >0</td>\n",
              "                        <td id=\"T_d47ba7b8_77eb_11ea_a1ad_0242ac1c0002row20_col4\" class=\"data row20 col4\" >0</td>\n",
              "                        <td id=\"T_d47ba7b8_77eb_11ea_a1ad_0242ac1c0002row20_col5\" class=\"data row20 col5\" >4</td>\n",
              "                        <td id=\"T_d47ba7b8_77eb_11ea_a1ad_0242ac1c0002row20_col6\" class=\"data row20 col6\" >4</td>\n",
              "            </tr>\n",
              "            <tr>\n",
              "                        <th id=\"T_d47ba7b8_77eb_11ea_a1ad_0242ac1c0002level0_row21\" class=\"row_heading level0 row21\" >21</th>\n",
              "                        <td id=\"T_d47ba7b8_77eb_11ea_a1ad_0242ac1c0002row21_col0\" class=\"data row21 col0\" >West Bengal</td>\n",
              "                        <td id=\"T_d47ba7b8_77eb_11ea_a1ad_0242ac1c0002row21_col1\" class=\"data row21 col1\" >11</td>\n",
              "                        <td id=\"T_d47ba7b8_77eb_11ea_a1ad_0242ac1c0002row21_col2\" class=\"data row21 col2\" >0</td>\n",
              "                        <td id=\"T_d47ba7b8_77eb_11ea_a1ad_0242ac1c0002row21_col3\" class=\"data row21 col3\" >0</td>\n",
              "                        <td id=\"T_d47ba7b8_77eb_11ea_a1ad_0242ac1c0002row21_col4\" class=\"data row21 col4\" >1</td>\n",
              "                        <td id=\"T_d47ba7b8_77eb_11ea_a1ad_0242ac1c0002row21_col5\" class=\"data row21 col5\" >11</td>\n",
              "                        <td id=\"T_d47ba7b8_77eb_11ea_a1ad_0242ac1c0002row21_col6\" class=\"data row21 col6\" >10</td>\n",
              "            </tr>\n",
              "            <tr>\n",
              "                        <th id=\"T_d47ba7b8_77eb_11ea_a1ad_0242ac1c0002level0_row22\" class=\"row_heading level0 row22\" >22</th>\n",
              "                        <td id=\"T_d47ba7b8_77eb_11ea_a1ad_0242ac1c0002row22_col0\" class=\"data row22 col0\" >Bihar</td>\n",
              "                        <td id=\"T_d47ba7b8_77eb_11ea_a1ad_0242ac1c0002row22_col1\" class=\"data row22 col1\" >7</td>\n",
              "                        <td id=\"T_d47ba7b8_77eb_11ea_a1ad_0242ac1c0002row22_col2\" class=\"data row22 col2\" >0</td>\n",
              "                        <td id=\"T_d47ba7b8_77eb_11ea_a1ad_0242ac1c0002row22_col3\" class=\"data row22 col3\" >0</td>\n",
              "                        <td id=\"T_d47ba7b8_77eb_11ea_a1ad_0242ac1c0002row22_col4\" class=\"data row22 col4\" >1</td>\n",
              "                        <td id=\"T_d47ba7b8_77eb_11ea_a1ad_0242ac1c0002row22_col5\" class=\"data row22 col5\" >7</td>\n",
              "                        <td id=\"T_d47ba7b8_77eb_11ea_a1ad_0242ac1c0002row22_col6\" class=\"data row22 col6\" >6</td>\n",
              "            </tr>\n",
              "            <tr>\n",
              "                        <th id=\"T_d47ba7b8_77eb_11ea_a1ad_0242ac1c0002level0_row23\" class=\"row_heading level0 row23\" >23</th>\n",
              "                        <td id=\"T_d47ba7b8_77eb_11ea_a1ad_0242ac1c0002row23_col0\" class=\"data row23 col0\" >Mizoram</td>\n",
              "                        <td id=\"T_d47ba7b8_77eb_11ea_a1ad_0242ac1c0002row23_col1\" class=\"data row23 col1\" >1</td>\n",
              "                        <td id=\"T_d47ba7b8_77eb_11ea_a1ad_0242ac1c0002row23_col2\" class=\"data row23 col2\" >0</td>\n",
              "                        <td id=\"T_d47ba7b8_77eb_11ea_a1ad_0242ac1c0002row23_col3\" class=\"data row23 col3\" >0</td>\n",
              "                        <td id=\"T_d47ba7b8_77eb_11ea_a1ad_0242ac1c0002row23_col4\" class=\"data row23 col4\" >0</td>\n",
              "                        <td id=\"T_d47ba7b8_77eb_11ea_a1ad_0242ac1c0002row23_col5\" class=\"data row23 col5\" >1</td>\n",
              "                        <td id=\"T_d47ba7b8_77eb_11ea_a1ad_0242ac1c0002row23_col6\" class=\"data row23 col6\" >1</td>\n",
              "            </tr>\n",
              "            <tr>\n",
              "                        <th id=\"T_d47ba7b8_77eb_11ea_a1ad_0242ac1c0002level0_row24\" class=\"row_heading level0 row24\" >24</th>\n",
              "                        <td id=\"T_d47ba7b8_77eb_11ea_a1ad_0242ac1c0002row24_col0\" class=\"data row24 col0\" >Goa</td>\n",
              "                        <td id=\"T_d47ba7b8_77eb_11ea_a1ad_0242ac1c0002row24_col1\" class=\"data row24 col1\" >6</td>\n",
              "                        <td id=\"T_d47ba7b8_77eb_11ea_a1ad_0242ac1c0002row24_col2\" class=\"data row24 col2\" >0</td>\n",
              "                        <td id=\"T_d47ba7b8_77eb_11ea_a1ad_0242ac1c0002row24_col3\" class=\"data row24 col3\" >0</td>\n",
              "                        <td id=\"T_d47ba7b8_77eb_11ea_a1ad_0242ac1c0002row24_col4\" class=\"data row24 col4\" >0</td>\n",
              "                        <td id=\"T_d47ba7b8_77eb_11ea_a1ad_0242ac1c0002row24_col5\" class=\"data row24 col5\" >6</td>\n",
              "                        <td id=\"T_d47ba7b8_77eb_11ea_a1ad_0242ac1c0002row24_col6\" class=\"data row24 col6\" >6</td>\n",
              "            </tr>\n",
              "            <tr>\n",
              "                        <th id=\"T_d47ba7b8_77eb_11ea_a1ad_0242ac1c0002level0_row25\" class=\"row_heading level0 row25\" >25</th>\n",
              "                        <td id=\"T_d47ba7b8_77eb_11ea_a1ad_0242ac1c0002row25_col0\" class=\"data row25 col0\" >Manipur</td>\n",
              "                        <td id=\"T_d47ba7b8_77eb_11ea_a1ad_0242ac1c0002row25_col1\" class=\"data row25 col1\" >1</td>\n",
              "                        <td id=\"T_d47ba7b8_77eb_11ea_a1ad_0242ac1c0002row25_col2\" class=\"data row25 col2\" >0</td>\n",
              "                        <td id=\"T_d47ba7b8_77eb_11ea_a1ad_0242ac1c0002row25_col3\" class=\"data row25 col3\" >0</td>\n",
              "                        <td id=\"T_d47ba7b8_77eb_11ea_a1ad_0242ac1c0002row25_col4\" class=\"data row25 col4\" >0</td>\n",
              "                        <td id=\"T_d47ba7b8_77eb_11ea_a1ad_0242ac1c0002row25_col5\" class=\"data row25 col5\" >1</td>\n",
              "                        <td id=\"T_d47ba7b8_77eb_11ea_a1ad_0242ac1c0002row25_col6\" class=\"data row25 col6\" >1</td>\n",
              "            </tr>\n",
              "    </tbody></table>"
            ],
            "text/plain": [
              "<pandas.io.formats.style.Styler at 0x7f4b60c66eb8>"
            ]
          },
          "metadata": {
            "tags": []
          },
          "execution_count": 55
        }
      ]
    },
    {
      "cell_type": "code",
      "metadata": {
        "id": "E1I22CeBsNVn",
        "colab_type": "code",
        "colab": {}
      },
      "source": [
        "total_active_cases = df.groupby('Name of State / UT')['Active cases'].sum().sort_values(ascending = False).to_frame()  #used to sort the values in ascending order"
      ],
      "execution_count": 0,
      "outputs": []
    },
    {
      "cell_type": "code",
      "metadata": {
        "id": "nBa__Vq1rtZo",
        "colab_type": "code",
        "outputId": "6fddd4cf-bd44-45d5-e0ad-518e062111bd",
        "colab": {
          "base_uri": "https://localhost:8080/",
          "height": 846
        }
      },
      "source": [
        "total_active_cases"
      ],
      "execution_count": 0,
      "outputs": [
        {
          "output_type": "execute_result",
          "data": {
            "text/html": [
              "<div>\n",
              "<style scoped>\n",
              "    .dataframe tbody tr th:only-of-type {\n",
              "        vertical-align: middle;\n",
              "    }\n",
              "\n",
              "    .dataframe tbody tr th {\n",
              "        vertical-align: top;\n",
              "    }\n",
              "\n",
              "    .dataframe thead th {\n",
              "        text-align: right;\n",
              "    }\n",
              "</style>\n",
              "<table border=\"1\" class=\"dataframe\">\n",
              "  <thead>\n",
              "    <tr style=\"text-align: right;\">\n",
              "      <th></th>\n",
              "      <th>Active cases</th>\n",
              "    </tr>\n",
              "    <tr>\n",
              "      <th>Name of State / UT</th>\n",
              "      <th></th>\n",
              "    </tr>\n",
              "  </thead>\n",
              "  <tbody>\n",
              "    <tr>\n",
              "      <th>Maharashtra</th>\n",
              "      <td>128</td>\n",
              "    </tr>\n",
              "    <tr>\n",
              "      <th>Kerala</th>\n",
              "      <td>127</td>\n",
              "    </tr>\n",
              "    <tr>\n",
              "      <th>Telengana</th>\n",
              "      <td>44</td>\n",
              "    </tr>\n",
              "    <tr>\n",
              "      <th>Rajasthan</th>\n",
              "      <td>40</td>\n",
              "    </tr>\n",
              "    <tr>\n",
              "      <th>Gujarat</th>\n",
              "      <td>40</td>\n",
              "    </tr>\n",
              "    <tr>\n",
              "      <th>Tamil Nadu</th>\n",
              "      <td>33</td>\n",
              "    </tr>\n",
              "    <tr>\n",
              "      <th>Uttar Pradesh</th>\n",
              "      <td>32</td>\n",
              "    </tr>\n",
              "    <tr>\n",
              "      <th>Delhi</th>\n",
              "      <td>32</td>\n",
              "    </tr>\n",
              "    <tr>\n",
              "      <th>Punjab</th>\n",
              "      <td>28</td>\n",
              "    </tr>\n",
              "    <tr>\n",
              "      <th>Madhya Pradesh</th>\n",
              "      <td>22</td>\n",
              "    </tr>\n",
              "    <tr>\n",
              "      <th>Haryana</th>\n",
              "      <td>19</td>\n",
              "    </tr>\n",
              "    <tr>\n",
              "      <th>Jammu and Kashmir</th>\n",
              "      <td>16</td>\n",
              "    </tr>\n",
              "    <tr>\n",
              "      <th>Karnataka</th>\n",
              "      <td>15</td>\n",
              "    </tr>\n",
              "    <tr>\n",
              "      <th>Ladakh</th>\n",
              "      <td>13</td>\n",
              "    </tr>\n",
              "    <tr>\n",
              "      <th>Andhra Pradesh</th>\n",
              "      <td>11</td>\n",
              "    </tr>\n",
              "    <tr>\n",
              "      <th>West Bengal</th>\n",
              "      <td>10</td>\n",
              "    </tr>\n",
              "    <tr>\n",
              "      <th>Chandigarh</th>\n",
              "      <td>7</td>\n",
              "    </tr>\n",
              "    <tr>\n",
              "      <th>Goa</th>\n",
              "      <td>6</td>\n",
              "    </tr>\n",
              "    <tr>\n",
              "      <th>Chhattisgarh</th>\n",
              "      <td>6</td>\n",
              "    </tr>\n",
              "    <tr>\n",
              "      <th>Bihar</th>\n",
              "      <td>6</td>\n",
              "    </tr>\n",
              "    <tr>\n",
              "      <th>Uttarakhand</th>\n",
              "      <td>4</td>\n",
              "    </tr>\n",
              "    <tr>\n",
              "      <th>Himachal Pradesh</th>\n",
              "      <td>3</td>\n",
              "    </tr>\n",
              "    <tr>\n",
              "      <th>Odisha</th>\n",
              "      <td>3</td>\n",
              "    </tr>\n",
              "    <tr>\n",
              "      <th>Manipur</th>\n",
              "      <td>1</td>\n",
              "    </tr>\n",
              "    <tr>\n",
              "      <th>Mizoram</th>\n",
              "      <td>1</td>\n",
              "    </tr>\n",
              "    <tr>\n",
              "      <th>Puducherry</th>\n",
              "      <td>1</td>\n",
              "    </tr>\n",
              "  </tbody>\n",
              "</table>\n",
              "</div>"
            ],
            "text/plain": [
              "                    Active cases\n",
              "Name of State / UT              \n",
              "Maharashtra                  128\n",
              "Kerala                       127\n",
              "Telengana                     44\n",
              "Rajasthan                     40\n",
              "Gujarat                       40\n",
              "Tamil Nadu                    33\n",
              "Uttar Pradesh                 32\n",
              "Delhi                         32\n",
              "Punjab                        28\n",
              "Madhya Pradesh                22\n",
              "Haryana                       19\n",
              "Jammu and Kashmir             16\n",
              "Karnataka                     15\n",
              "Ladakh                        13\n",
              "Andhra Pradesh                11\n",
              "West Bengal                   10\n",
              "Chandigarh                     7\n",
              "Goa                            6\n",
              "Chhattisgarh                   6\n",
              "Bihar                          6\n",
              "Uttarakhand                    4\n",
              "Himachal Pradesh               3\n",
              "Odisha                         3\n",
              "Manipur                        1\n",
              "Mizoram                        1\n",
              "Puducherry                     1"
            ]
          },
          "metadata": {
            "tags": []
          },
          "execution_count": 43
        }
      ]
    },
    {
      "cell_type": "code",
      "metadata": {
        "id": "HnspGFuszIoI",
        "colab_type": "code",
        "outputId": "464f609a-6ef2-4eb3-bce2-790cc817356d",
        "colab": {
          "base_uri": "https://localhost:8080/",
          "height": 578
        }
      },
      "source": [
        "total_active_cases.style.background_gradient(cmap=\"Reds\")"
      ],
      "execution_count": 0,
      "outputs": [
        {
          "output_type": "execute_result",
          "data": {
            "text/html": [
              "<style  type=\"text/css\" >\n",
              "    #T_54da237e_77e9_11ea_a1ad_0242ac1c0002row0_col0 {\n",
              "            background-color:  #67000d;\n",
              "            color:  #f1f1f1;\n",
              "        }    #T_54da237e_77e9_11ea_a1ad_0242ac1c0002row1_col0 {\n",
              "            background-color:  #6b010e;\n",
              "            color:  #f1f1f1;\n",
              "        }    #T_54da237e_77e9_11ea_a1ad_0242ac1c0002row2_col0 {\n",
              "            background-color:  #fc9e80;\n",
              "            color:  #000000;\n",
              "        }    #T_54da237e_77e9_11ea_a1ad_0242ac1c0002row3_col0 {\n",
              "            background-color:  #fca98c;\n",
              "            color:  #000000;\n",
              "        }    #T_54da237e_77e9_11ea_a1ad_0242ac1c0002row4_col0 {\n",
              "            background-color:  #fca98c;\n",
              "            color:  #000000;\n",
              "        }    #T_54da237e_77e9_11ea_a1ad_0242ac1c0002row5_col0 {\n",
              "            background-color:  #fcbba1;\n",
              "            color:  #000000;\n",
              "        }    #T_54da237e_77e9_11ea_a1ad_0242ac1c0002row6_col0 {\n",
              "            background-color:  #fcbda4;\n",
              "            color:  #000000;\n",
              "        }    #T_54da237e_77e9_11ea_a1ad_0242ac1c0002row7_col0 {\n",
              "            background-color:  #fcbda4;\n",
              "            color:  #000000;\n",
              "        }    #T_54da237e_77e9_11ea_a1ad_0242ac1c0002row8_col0 {\n",
              "            background-color:  #fdc6b0;\n",
              "            color:  #000000;\n",
              "        }    #T_54da237e_77e9_11ea_a1ad_0242ac1c0002row9_col0 {\n",
              "            background-color:  #fdd4c2;\n",
              "            color:  #000000;\n",
              "        }    #T_54da237e_77e9_11ea_a1ad_0242ac1c0002row10_col0 {\n",
              "            background-color:  #fedbcc;\n",
              "            color:  #000000;\n",
              "        }    #T_54da237e_77e9_11ea_a1ad_0242ac1c0002row11_col0 {\n",
              "            background-color:  #fee1d4;\n",
              "            color:  #000000;\n",
              "        }    #T_54da237e_77e9_11ea_a1ad_0242ac1c0002row12_col0 {\n",
              "            background-color:  #fee3d6;\n",
              "            color:  #000000;\n",
              "        }    #T_54da237e_77e9_11ea_a1ad_0242ac1c0002row13_col0 {\n",
              "            background-color:  #fee5d9;\n",
              "            color:  #000000;\n",
              "        }    #T_54da237e_77e9_11ea_a1ad_0242ac1c0002row14_col0 {\n",
              "            background-color:  #fee8dd;\n",
              "            color:  #000000;\n",
              "        }    #T_54da237e_77e9_11ea_a1ad_0242ac1c0002row15_col0 {\n",
              "            background-color:  #fee9df;\n",
              "            color:  #000000;\n",
              "        }    #T_54da237e_77e9_11ea_a1ad_0242ac1c0002row16_col0 {\n",
              "            background-color:  #ffede5;\n",
              "            color:  #000000;\n",
              "        }    #T_54da237e_77e9_11ea_a1ad_0242ac1c0002row17_col0 {\n",
              "            background-color:  #ffeee7;\n",
              "            color:  #000000;\n",
              "        }    #T_54da237e_77e9_11ea_a1ad_0242ac1c0002row18_col0 {\n",
              "            background-color:  #ffeee7;\n",
              "            color:  #000000;\n",
              "        }    #T_54da237e_77e9_11ea_a1ad_0242ac1c0002row19_col0 {\n",
              "            background-color:  #ffeee7;\n",
              "            color:  #000000;\n",
              "        }    #T_54da237e_77e9_11ea_a1ad_0242ac1c0002row20_col0 {\n",
              "            background-color:  #fff1ea;\n",
              "            color:  #000000;\n",
              "        }    #T_54da237e_77e9_11ea_a1ad_0242ac1c0002row21_col0 {\n",
              "            background-color:  #fff2ec;\n",
              "            color:  #000000;\n",
              "        }    #T_54da237e_77e9_11ea_a1ad_0242ac1c0002row22_col0 {\n",
              "            background-color:  #fff2ec;\n",
              "            color:  #000000;\n",
              "        }    #T_54da237e_77e9_11ea_a1ad_0242ac1c0002row23_col0 {\n",
              "            background-color:  #fff5f0;\n",
              "            color:  #000000;\n",
              "        }    #T_54da237e_77e9_11ea_a1ad_0242ac1c0002row24_col0 {\n",
              "            background-color:  #fff5f0;\n",
              "            color:  #000000;\n",
              "        }    #T_54da237e_77e9_11ea_a1ad_0242ac1c0002row25_col0 {\n",
              "            background-color:  #fff5f0;\n",
              "            color:  #000000;\n",
              "        }</style><table id=\"T_54da237e_77e9_11ea_a1ad_0242ac1c0002\" ><thead>    <tr>        <th class=\"blank level0\" ></th>        <th class=\"col_heading level0 col0\" >Active cases</th>    </tr>    <tr>        <th class=\"index_name level0\" >Name of State / UT</th>        <th class=\"blank\" ></th>    </tr></thead><tbody>\n",
              "                <tr>\n",
              "                        <th id=\"T_54da237e_77e9_11ea_a1ad_0242ac1c0002level0_row0\" class=\"row_heading level0 row0\" >Maharashtra</th>\n",
              "                        <td id=\"T_54da237e_77e9_11ea_a1ad_0242ac1c0002row0_col0\" class=\"data row0 col0\" >128</td>\n",
              "            </tr>\n",
              "            <tr>\n",
              "                        <th id=\"T_54da237e_77e9_11ea_a1ad_0242ac1c0002level0_row1\" class=\"row_heading level0 row1\" >Kerala</th>\n",
              "                        <td id=\"T_54da237e_77e9_11ea_a1ad_0242ac1c0002row1_col0\" class=\"data row1 col0\" >127</td>\n",
              "            </tr>\n",
              "            <tr>\n",
              "                        <th id=\"T_54da237e_77e9_11ea_a1ad_0242ac1c0002level0_row2\" class=\"row_heading level0 row2\" >Telengana</th>\n",
              "                        <td id=\"T_54da237e_77e9_11ea_a1ad_0242ac1c0002row2_col0\" class=\"data row2 col0\" >44</td>\n",
              "            </tr>\n",
              "            <tr>\n",
              "                        <th id=\"T_54da237e_77e9_11ea_a1ad_0242ac1c0002level0_row3\" class=\"row_heading level0 row3\" >Rajasthan</th>\n",
              "                        <td id=\"T_54da237e_77e9_11ea_a1ad_0242ac1c0002row3_col0\" class=\"data row3 col0\" >40</td>\n",
              "            </tr>\n",
              "            <tr>\n",
              "                        <th id=\"T_54da237e_77e9_11ea_a1ad_0242ac1c0002level0_row4\" class=\"row_heading level0 row4\" >Gujarat</th>\n",
              "                        <td id=\"T_54da237e_77e9_11ea_a1ad_0242ac1c0002row4_col0\" class=\"data row4 col0\" >40</td>\n",
              "            </tr>\n",
              "            <tr>\n",
              "                        <th id=\"T_54da237e_77e9_11ea_a1ad_0242ac1c0002level0_row5\" class=\"row_heading level0 row5\" >Tamil Nadu</th>\n",
              "                        <td id=\"T_54da237e_77e9_11ea_a1ad_0242ac1c0002row5_col0\" class=\"data row5 col0\" >33</td>\n",
              "            </tr>\n",
              "            <tr>\n",
              "                        <th id=\"T_54da237e_77e9_11ea_a1ad_0242ac1c0002level0_row6\" class=\"row_heading level0 row6\" >Uttar Pradesh</th>\n",
              "                        <td id=\"T_54da237e_77e9_11ea_a1ad_0242ac1c0002row6_col0\" class=\"data row6 col0\" >32</td>\n",
              "            </tr>\n",
              "            <tr>\n",
              "                        <th id=\"T_54da237e_77e9_11ea_a1ad_0242ac1c0002level0_row7\" class=\"row_heading level0 row7\" >Delhi</th>\n",
              "                        <td id=\"T_54da237e_77e9_11ea_a1ad_0242ac1c0002row7_col0\" class=\"data row7 col0\" >32</td>\n",
              "            </tr>\n",
              "            <tr>\n",
              "                        <th id=\"T_54da237e_77e9_11ea_a1ad_0242ac1c0002level0_row8\" class=\"row_heading level0 row8\" >Punjab</th>\n",
              "                        <td id=\"T_54da237e_77e9_11ea_a1ad_0242ac1c0002row8_col0\" class=\"data row8 col0\" >28</td>\n",
              "            </tr>\n",
              "            <tr>\n",
              "                        <th id=\"T_54da237e_77e9_11ea_a1ad_0242ac1c0002level0_row9\" class=\"row_heading level0 row9\" >Madhya Pradesh</th>\n",
              "                        <td id=\"T_54da237e_77e9_11ea_a1ad_0242ac1c0002row9_col0\" class=\"data row9 col0\" >22</td>\n",
              "            </tr>\n",
              "            <tr>\n",
              "                        <th id=\"T_54da237e_77e9_11ea_a1ad_0242ac1c0002level0_row10\" class=\"row_heading level0 row10\" >Haryana</th>\n",
              "                        <td id=\"T_54da237e_77e9_11ea_a1ad_0242ac1c0002row10_col0\" class=\"data row10 col0\" >19</td>\n",
              "            </tr>\n",
              "            <tr>\n",
              "                        <th id=\"T_54da237e_77e9_11ea_a1ad_0242ac1c0002level0_row11\" class=\"row_heading level0 row11\" >Jammu and Kashmir</th>\n",
              "                        <td id=\"T_54da237e_77e9_11ea_a1ad_0242ac1c0002row11_col0\" class=\"data row11 col0\" >16</td>\n",
              "            </tr>\n",
              "            <tr>\n",
              "                        <th id=\"T_54da237e_77e9_11ea_a1ad_0242ac1c0002level0_row12\" class=\"row_heading level0 row12\" >Karnataka</th>\n",
              "                        <td id=\"T_54da237e_77e9_11ea_a1ad_0242ac1c0002row12_col0\" class=\"data row12 col0\" >15</td>\n",
              "            </tr>\n",
              "            <tr>\n",
              "                        <th id=\"T_54da237e_77e9_11ea_a1ad_0242ac1c0002level0_row13\" class=\"row_heading level0 row13\" >Ladakh</th>\n",
              "                        <td id=\"T_54da237e_77e9_11ea_a1ad_0242ac1c0002row13_col0\" class=\"data row13 col0\" >13</td>\n",
              "            </tr>\n",
              "            <tr>\n",
              "                        <th id=\"T_54da237e_77e9_11ea_a1ad_0242ac1c0002level0_row14\" class=\"row_heading level0 row14\" >Andhra Pradesh</th>\n",
              "                        <td id=\"T_54da237e_77e9_11ea_a1ad_0242ac1c0002row14_col0\" class=\"data row14 col0\" >11</td>\n",
              "            </tr>\n",
              "            <tr>\n",
              "                        <th id=\"T_54da237e_77e9_11ea_a1ad_0242ac1c0002level0_row15\" class=\"row_heading level0 row15\" >West Bengal</th>\n",
              "                        <td id=\"T_54da237e_77e9_11ea_a1ad_0242ac1c0002row15_col0\" class=\"data row15 col0\" >10</td>\n",
              "            </tr>\n",
              "            <tr>\n",
              "                        <th id=\"T_54da237e_77e9_11ea_a1ad_0242ac1c0002level0_row16\" class=\"row_heading level0 row16\" >Chandigarh</th>\n",
              "                        <td id=\"T_54da237e_77e9_11ea_a1ad_0242ac1c0002row16_col0\" class=\"data row16 col0\" >7</td>\n",
              "            </tr>\n",
              "            <tr>\n",
              "                        <th id=\"T_54da237e_77e9_11ea_a1ad_0242ac1c0002level0_row17\" class=\"row_heading level0 row17\" >Goa</th>\n",
              "                        <td id=\"T_54da237e_77e9_11ea_a1ad_0242ac1c0002row17_col0\" class=\"data row17 col0\" >6</td>\n",
              "            </tr>\n",
              "            <tr>\n",
              "                        <th id=\"T_54da237e_77e9_11ea_a1ad_0242ac1c0002level0_row18\" class=\"row_heading level0 row18\" >Chhattisgarh</th>\n",
              "                        <td id=\"T_54da237e_77e9_11ea_a1ad_0242ac1c0002row18_col0\" class=\"data row18 col0\" >6</td>\n",
              "            </tr>\n",
              "            <tr>\n",
              "                        <th id=\"T_54da237e_77e9_11ea_a1ad_0242ac1c0002level0_row19\" class=\"row_heading level0 row19\" >Bihar</th>\n",
              "                        <td id=\"T_54da237e_77e9_11ea_a1ad_0242ac1c0002row19_col0\" class=\"data row19 col0\" >6</td>\n",
              "            </tr>\n",
              "            <tr>\n",
              "                        <th id=\"T_54da237e_77e9_11ea_a1ad_0242ac1c0002level0_row20\" class=\"row_heading level0 row20\" >Uttarakhand</th>\n",
              "                        <td id=\"T_54da237e_77e9_11ea_a1ad_0242ac1c0002row20_col0\" class=\"data row20 col0\" >4</td>\n",
              "            </tr>\n",
              "            <tr>\n",
              "                        <th id=\"T_54da237e_77e9_11ea_a1ad_0242ac1c0002level0_row21\" class=\"row_heading level0 row21\" >Himachal Pradesh</th>\n",
              "                        <td id=\"T_54da237e_77e9_11ea_a1ad_0242ac1c0002row21_col0\" class=\"data row21 col0\" >3</td>\n",
              "            </tr>\n",
              "            <tr>\n",
              "                        <th id=\"T_54da237e_77e9_11ea_a1ad_0242ac1c0002level0_row22\" class=\"row_heading level0 row22\" >Odisha</th>\n",
              "                        <td id=\"T_54da237e_77e9_11ea_a1ad_0242ac1c0002row22_col0\" class=\"data row22 col0\" >3</td>\n",
              "            </tr>\n",
              "            <tr>\n",
              "                        <th id=\"T_54da237e_77e9_11ea_a1ad_0242ac1c0002level0_row23\" class=\"row_heading level0 row23\" >Manipur</th>\n",
              "                        <td id=\"T_54da237e_77e9_11ea_a1ad_0242ac1c0002row23_col0\" class=\"data row23 col0\" >1</td>\n",
              "            </tr>\n",
              "            <tr>\n",
              "                        <th id=\"T_54da237e_77e9_11ea_a1ad_0242ac1c0002level0_row24\" class=\"row_heading level0 row24\" >Mizoram</th>\n",
              "                        <td id=\"T_54da237e_77e9_11ea_a1ad_0242ac1c0002row24_col0\" class=\"data row24 col0\" >1</td>\n",
              "            </tr>\n",
              "            <tr>\n",
              "                        <th id=\"T_54da237e_77e9_11ea_a1ad_0242ac1c0002level0_row25\" class=\"row_heading level0 row25\" >Puducherry</th>\n",
              "                        <td id=\"T_54da237e_77e9_11ea_a1ad_0242ac1c0002row25_col0\" class=\"data row25 col0\" >1</td>\n",
              "            </tr>\n",
              "    </tbody></table>"
            ],
            "text/plain": [
              "<pandas.io.formats.style.Styler at 0x7f4b60c83780>"
            ]
          },
          "metadata": {
            "tags": []
          },
          "execution_count": 44
        }
      ]
    },
    {
      "cell_type": "code",
      "metadata": {
        "id": "JeIgZFqX1CxK",
        "colab_type": "code",
        "colab": {}
      },
      "source": [
        " ################## graphs"
      ],
      "execution_count": 0,
      "outputs": []
    },
    {
      "cell_type": "code",
      "metadata": {
        "id": "mWoXyZFf5XnX",
        "colab_type": "code",
        "colab": {}
      },
      "source": [
        "#panda visual"
      ],
      "execution_count": 0,
      "outputs": []
    },
    {
      "cell_type": "code",
      "metadata": {
        "id": "0oxX85vs1q4s",
        "colab_type": "code",
        "outputId": "363323db-b132-4bf8-db9e-73d90d3a0146",
        "colab": {
          "base_uri": "https://localhost:8080/",
          "height": 607
        }
      },
      "source": [
        "df.plot(kind='bar', x = 'Name of State / UT', y = 'Total cases')"
      ],
      "execution_count": 0,
      "outputs": [
        {
          "output_type": "execute_result",
          "data": {
            "text/plain": [
              "<matplotlib.axes._subplots.AxesSubplot at 0x7f4b5fef07b8>"
            ]
          },
          "metadata": {
            "tags": []
          },
          "execution_count": 67
        },
        {
          "output_type": "display_data",
          "data": {
            "image/png": "[encoded data removed]",
            "text/plain": [
              "<Figure size 720x576 with 1 Axes>"
            ]
          },
          "metadata": {
            "tags": []
          }
        }
      ]
    },
    {
      "cell_type": "code",
      "metadata": {
        "id": "w-WfVYBl2wR7",
        "colab_type": "code",
        "colab": {}
      },
      "source": [
        "#matplotlib vls"
      ],
      "execution_count": 0,
      "outputs": []
    },
    {
      "cell_type": "markdown",
      "metadata": {
        "id": "fRKAOzlo4Wqp",
        "colab_type": "text"
      },
      "source": [
        ""
      ]
    },
    {
      "cell_type": "code",
      "metadata": {
        "id": "rhOr0_m55eNS",
        "colab_type": "code",
        "outputId": "49098f7d-72de-409e-87b4-5aaeb51a7704",
        "colab": {
          "base_uri": "https://localhost:8080/",
          "height": 500
        }
      },
      "source": [
        "plt.bar(df['Name of State / UT'],df['Total cases'])"
      ],
      "execution_count": 0,
      "outputs": [
        {
          "output_type": "execute_result",
          "data": {
            "text/plain": [
              "<BarContainer object of 26 artists>"
            ]
          },
          "metadata": {
            "tags": []
          },
          "execution_count": 68
        },
        {
          "output_type": "display_data",
          "data": {
            "image/png": "[encoded data removed]",
            "text/plain": [
              "<Figure size 720x576 with 1 Axes>"
            ]
          },
          "metadata": {
            "tags": []
          }
        }
      ]
    },
    {
      "cell_type": "code",
      "metadata": {
        "id": "gk4d-r0E73Qw",
        "colab_type": "code",
        "colab": {}
      },
      "source": [
        ""
      ],
      "execution_count": 0,
      "outputs": []
    },
    {
      "cell_type": "code",
      "metadata": {
        "id": "Xyvj9t3W52wf",
        "colab_type": "code",
        "outputId": "86d2769a-82ef-41ab-919b-a186a93d5f4a",
        "colab": {
          "base_uri": "https://localhost:8080/",
          "height": 542
        }
      },
      "source": [
        "df.iplot(kind='bar', x='Name of State / UT',y ='Total cases')"
      ],
      "execution_count": 0,
      "outputs": [
        {
          "output_type": "display_data",
          "data": {
            "text/html": [
              "<div>\n",
              "        \n",
              "        \n",
              "            <div id=\"6e1106c6-8816-43c4-a137-fa090e335025\" class=\"plotly-graph-div\" style=\"height:525px; width:100%;\"></div>\n",
              "            <script type=\"text/javascript\">\n",
              "                require([\"plotly\"], function(Plotly) {\n",
              "                    window.PLOTLYENV=window.PLOTLYENV || {};\n",
              "                    window.PLOTLYENV.BASE_URL='https://plot.ly';\n",
              "                    \n",
              "                if (document.getElementById(\"6e1106c6-8816-43c4-a137-fa090e335025\")) {\n",
              "                    Plotly.newPlot(\n",
              "                        '6e1106c6-8816-43c4-a137-fa090e335025',\n",
              "                        [{\"marker\": {\"color\": \"rgba(255, 153, 51, 0.6)\", \"line\": {\"color\": \"rgba(255, 153, 51, 1.0)\", \"width\": 1}}, \"name\": \"Total cases\", \"orientation\": \"v\", \"text\": \"\", \"type\": \"bar\", \"x\": [\"Andhra Pradesh\", \"Chhattisgarh\", \"Delhi\", \"Gujarat\", \"Haryana\", \"Himachal Pradesh\", \"Karnataka\", \"Kerala\", \"Madhya Pradesh\", \"Maharashtra\", \"Odisha\", \"Puducherry\", \"Punjab\", \"Rajasthan\", \"Tamil Nadu\", \"Telengana\", \"Chandigarh\", \"Jammu and Kashmir\", \"Ladakh\", \"Uttar Pradesh\", \"Uttarakhand\", \"West Bengal\", \"Bihar\", \"Mizoram\", \"Goa\", \"Manipur\"], \"y\": [12, 6, 39, 43, 30, 4, 20, 138, 23, 147, 3, 1, 29, 43, 35, 45, 7, 18, 13, 43, 4, 11, 7, 1, 6, 1]}],\n",
              "                        {\"legend\": {\"bgcolor\": \"#F5F6F9\", \"font\": {\"color\": \"#4D5663\"}}, \"paper_bgcolor\": \"#F5F6F9\", \"plot_bgcolor\": \"#F5F6F9\", \"template\": {\"data\": {\"bar\": [{\"error_x\": {\"color\": \"#2a3f5f\"}, \"error_y\": {\"color\": \"#2a3f5f\"}, \"marker\": {\"line\": {\"color\": \"#E5ECF6\", \"width\": 0.5}}, \"type\": \"bar\"}], \"barpolar\": [{\"marker\": {\"line\": {\"color\": \"#E5ECF6\", \"width\": 0.5}}, \"type\": \"barpolar\"}], \"carpet\": [{\"aaxis\": {\"endlinecolor\": \"#2a3f5f\", \"gridcolor\": \"white\", \"linecolor\": \"white\", \"minorgridcolor\": \"white\", \"startlinecolor\": \"#2a3f5f\"}, \"baxis\": {\"endlinecolor\": \"#2a3f5f\", \"gridcolor\": \"white\", \"linecolor\": \"white\", \"minorgridcolor\": \"white\", \"startlinecolor\": \"#2a3f5f\"}, \"type\": \"carpet\"}], \"choropleth\": [{\"colorbar\": {\"outlinewidth\": 0, \"ticks\": \"\"}, \"type\": \"choropleth\"}], \"contour\": [{\"colorbar\": {\"outlinewidth\": 0, \"ticks\": \"\"}, \"colorscale\": [[0.0, \"#0d0887\"], [0.1111111111111111, \"#46039f\"], [0.2222222222222222, \"#7201a8\"], [0.3333333333333333, \"#9c179e\"], [0.4444444444444444, \"#bd3786\"], [0.5555555555555556, \"#d8576b\"], [0.6666666666666666, \"#ed7953\"], [0.7777777777777778, \"#fb9f3a\"], [0.8888888888888888, \"#fdca26\"], [1.0, \"#f0f921\"]], \"type\": \"contour\"}], \"contourcarpet\": [{\"colorbar\": {\"outlinewidth\": 0, \"ticks\": \"\"}, \"type\": \"contourcarpet\"}], \"heatmap\": [{\"colorbar\": {\"outlinewidth\": 0, \"ticks\": \"\"}, \"colorscale\": [[0.0, \"#0d0887\"], [0.1111111111111111, \"#46039f\"], [0.2222222222222222, \"#7201a8\"], [0.3333333333333333, \"#9c179e\"], [0.4444444444444444, \"#bd3786\"], [0.5555555555555556, \"#d8576b\"], [0.6666666666666666, \"#ed7953\"], [0.7777777777777778, \"#fb9f3a\"], [0.8888888888888888, \"#fdca26\"], [1.0, \"#f0f921\"]], \"type\": \"heatmap\"}], \"heatmapgl\": [{\"colorbar\": {\"outlinewidth\": 0, \"ticks\": \"\"}, \"colorscale\": [[0.0, \"#0d0887\"], [0.1111111111111111, \"#46039f\"], [0.2222222222222222, \"#7201a8\"], [0.3333333333333333, \"#9c179e\"], [0.4444444444444444, \"#bd3786\"], [0.5555555555555556, \"#d8576b\"], [0.6666666666666666, \"#ed7953\"], [0.7777777777777778, \"#fb9f3a\"], [0.8888888888888888, \"#fdca26\"], [1.0, \"#f0f921\"]], \"type\": \"heatmapgl\"}], \"histogram\": [{\"marker\": {\"colorbar\": {\"outlinewidth\": 0, \"ticks\": \"\"}}, \"type\": \"histogram\"}], \"histogram2d\": [{\"colorbar\": {\"outlinewidth\": 0, \"ticks\": \"\"}, \"colorscale\": [[0.0, \"#0d0887\"], [0.1111111111111111, \"#46039f\"], [0.2222222222222222, \"#7201a8\"], [0.3333333333333333, \"#9c179e\"], [0.4444444444444444, \"#bd3786\"], [0.5555555555555556, \"#d8576b\"], [0.6666666666666666, \"#ed7953\"], [0.7777777777777778, \"#fb9f3a\"], [0.8888888888888888, \"#fdca26\"], [1.0, \"#f0f921\"]], \"type\": \"histogram2d\"}], \"histogram2dcontour\": [{\"colorbar\": {\"outlinewidth\": 0, \"ticks\": \"\"}, \"colorscale\": [[0.0, \"#0d0887\"], [0.1111111111111111, \"#46039f\"], [0.2222222222222222, \"#7201a8\"], [0.3333333333333333, \"#9c179e\"], [0.4444444444444444, \"#bd3786\"], [0.5555555555555556, \"#d8576b\"], [0.6666666666666666, \"#ed7953\"], [0.7777777777777778, \"#fb9f3a\"], [0.8888888888888888, \"#fdca26\"], [1.0, \"#f0f921\"]], \"type\": \"histogram2dcontour\"}], \"mesh3d\": [{\"colorbar\": {\"outlinewidth\": 0, \"ticks\": \"\"}, \"type\": \"mesh3d\"}], \"parcoords\": [{\"line\": {\"colorbar\": {\"outlinewidth\": 0, \"ticks\": \"\"}}, \"type\": \"parcoords\"}], \"pie\": [{\"automargin\": true, \"type\": \"pie\"}], \"scatter\": [{\"marker\": {\"colorbar\": {\"outlinewidth\": 0, \"ticks\": \"\"}}, \"type\": \"scatter\"}], \"scatter3d\": [{\"line\": {\"colorbar\": {\"outlinewidth\": 0, \"ticks\": \"\"}}, \"marker\": {\"colorbar\": {\"outlinewidth\": 0, \"ticks\": \"\"}}, \"type\": \"scatter3d\"}], \"scattercarpet\": [{\"marker\": {\"colorbar\": {\"outlinewidth\": 0, \"ticks\": \"\"}}, \"type\": \"scattercarpet\"}], \"scattergeo\": [{\"marker\": {\"colorbar\": {\"outlinewidth\": 0, \"ticks\": \"\"}}, \"type\": \"scattergeo\"}], \"scattergl\": [{\"marker\": {\"colorbar\": {\"outlinewidth\": 0, \"ticks\": \"\"}}, \"type\": \"scattergl\"}], \"scattermapbox\": [{\"marker\": {\"colorbar\": {\"outlinewidth\": 0, \"ticks\": \"\"}}, \"type\": \"scattermapbox\"}], \"scatterpolar\": [{\"marker\": {\"colorbar\": {\"outlinewidth\": 0, \"ticks\": \"\"}}, \"type\": \"scatterpolar\"}], \"scatterpolargl\": [{\"marker\": {\"colorbar\": {\"outlinewidth\": 0, \"ticks\": \"\"}}, \"type\": \"scatterpolargl\"}], \"scatterternary\": [{\"marker\": {\"colorbar\": {\"outlinewidth\": 0, \"ticks\": \"\"}}, \"type\": \"scatterternary\"}], \"surface\": [{\"colorbar\": {\"outlinewidth\": 0, \"ticks\": \"\"}, \"colorscale\": [[0.0, \"#0d0887\"], [0.1111111111111111, \"#46039f\"], [0.2222222222222222, \"#7201a8\"], [0.3333333333333333, \"#9c179e\"], [0.4444444444444444, \"#bd3786\"], [0.5555555555555556, \"#d8576b\"], [0.6666666666666666, \"#ed7953\"], [0.7777777777777778, \"#fb9f3a\"], [0.8888888888888888, \"#fdca26\"], [1.0, \"#f0f921\"]], \"type\": \"surface\"}], \"table\": [{\"cells\": {\"fill\": {\"color\": \"#EBF0F8\"}, \"line\": {\"color\": \"white\"}}, \"header\": {\"fill\": {\"color\": \"#C8D4E3\"}, \"line\": {\"color\": \"white\"}}, \"type\": \"table\"}]}, \"layout\": {\"annotationdefaults\": {\"arrowcolor\": \"#2a3f5f\", \"arrowhead\": 0, \"arrowwidth\": 1}, \"coloraxis\": {\"colorbar\": {\"outlinewidth\": 0, \"ticks\": \"\"}}, \"colorscale\": {\"diverging\": [[0, \"#8e0152\"], [0.1, \"#c51b7d\"], [0.2, \"#de77ae\"], [0.3, \"#f1b6da\"], [0.4, \"#fde0ef\"], [0.5, \"#f7f7f7\"], [0.6, \"#e6f5d0\"], [0.7, \"#b8e186\"], [0.8, \"#7fbc41\"], [0.9, \"#4d9221\"], [1, \"#276419\"]], \"sequential\": [[0.0, \"#0d0887\"], [0.1111111111111111, \"#46039f\"], [0.2222222222222222, \"#7201a8\"], [0.3333333333333333, \"#9c179e\"], [0.4444444444444444, \"#bd3786\"], [0.5555555555555556, \"#d8576b\"], [0.6666666666666666, \"#ed7953\"], [0.7777777777777778, \"#fb9f3a\"], [0.8888888888888888, \"#fdca26\"], [1.0, \"#f0f921\"]], \"sequentialminus\": [[0.0, \"#0d0887\"], [0.1111111111111111, \"#46039f\"], [0.2222222222222222, \"#7201a8\"], [0.3333333333333333, \"#9c179e\"], [0.4444444444444444, \"#bd3786\"], [0.5555555555555556, \"#d8576b\"], [0.6666666666666666, \"#ed7953\"], [0.7777777777777778, \"#fb9f3a\"], [0.8888888888888888, \"#fdca26\"], [1.0, \"#f0f921\"]]}, \"colorway\": [\"#636efa\", \"#EF553B\", \"#00cc96\", \"#ab63fa\", \"#FFA15A\", \"#19d3f3\", \"#FF6692\", \"#B6E880\", \"#FF97FF\", \"#FECB52\"], \"font\": {\"color\": \"#2a3f5f\"}, \"geo\": {\"bgcolor\": \"white\", \"lakecolor\": \"white\", \"landcolor\": \"#E5ECF6\", \"showlakes\": true, \"showland\": true, \"subunitcolor\": \"white\"}, \"hoverlabel\": {\"align\": \"left\"}, \"hovermode\": \"closest\", \"mapbox\": {\"style\": \"light\"}, \"paper_bgcolor\": \"white\", \"plot_bgcolor\": \"#E5ECF6\", \"polar\": {\"angularaxis\": {\"gridcolor\": \"white\", \"linecolor\": \"white\", \"ticks\": \"\"}, \"bgcolor\": \"#E5ECF6\", \"radialaxis\": {\"gridcolor\": \"white\", \"linecolor\": \"white\", \"ticks\": \"\"}}, \"scene\": {\"xaxis\": {\"backgroundcolor\": \"#E5ECF6\", \"gridcolor\": \"white\", \"gridwidth\": 2, \"linecolor\": \"white\", \"showbackground\": true, \"ticks\": \"\", \"zerolinecolor\": \"white\"}, \"yaxis\": {\"backgroundcolor\": \"#E5ECF6\", \"gridcolor\": \"white\", \"gridwidth\": 2, \"linecolor\": \"white\", \"showbackground\": true, \"ticks\": \"\", \"zerolinecolor\": \"white\"}, \"zaxis\": {\"backgroundcolor\": \"#E5ECF6\", \"gridcolor\": \"white\", \"gridwidth\": 2, \"linecolor\": \"white\", \"showbackground\": true, \"ticks\": \"\", \"zerolinecolor\": \"white\"}}, \"shapedefaults\": {\"line\": {\"color\": \"#2a3f5f\"}}, \"ternary\": {\"aaxis\": {\"gridcolor\": \"white\", \"linecolor\": \"white\", \"ticks\": \"\"}, \"baxis\": {\"gridcolor\": \"white\", \"linecolor\": \"white\", \"ticks\": \"\"}, \"bgcolor\": \"#E5ECF6\", \"caxis\": {\"gridcolor\": \"white\", \"linecolor\": \"white\", \"ticks\": \"\"}}, \"title\": {\"x\": 0.05}, \"xaxis\": {\"automargin\": true, \"gridcolor\": \"white\", \"linecolor\": \"white\", \"ticks\": \"\", \"title\": {\"standoff\": 15}, \"zerolinecolor\": \"white\", \"zerolinewidth\": 2}, \"yaxis\": {\"automargin\": true, \"gridcolor\": \"white\", \"linecolor\": \"white\", \"ticks\": \"\", \"title\": {\"standoff\": 15}, \"zerolinecolor\": \"white\", \"zerolinewidth\": 2}}}, \"title\": {\"font\": {\"color\": \"#4D5663\"}}, \"xaxis\": {\"gridcolor\": \"#E1E5ED\", \"showgrid\": true, \"tickfont\": {\"color\": \"#4D5663\"}, \"title\": {\"font\": {\"color\": \"#4D5663\"}, \"text\": \"\"}, \"zerolinecolor\": \"#E1E5ED\"}, \"yaxis\": {\"gridcolor\": \"#E1E5ED\", \"showgrid\": true, \"tickfont\": {\"color\": \"#4D5663\"}, \"title\": {\"font\": {\"color\": \"#4D5663\"}, \"text\": \"\"}, \"zerolinecolor\": \"#E1E5ED\"}},\n",
              "                        {\"showLink\": true, \"linkText\": \"Export to plot.ly\", \"plotlyServerURL\": \"https://plot.ly\", \"responsive\": true}\n",
              "                    ).then(function(){\n",
              "                            \n",
              "var gd = document.getElementById('6e1106c6-8816-43c4-a137-fa090e335025');\n",
              "var x = new MutationObserver(function (mutations, observer) {{\n",
              "        var display = window.getComputedStyle(gd).display;\n",
              "        if (!display || display === 'none') {{\n",
              "            console.log([gd, 'removed!']);\n",
              "            Plotly.purge(gd);\n",
              "            observer.disconnect();\n",
              "        }}\n",
              "}});\n",
              "\n",
              "// Listen for the removal of the full notebook cells\n",
              "var notebookContainer = gd.closest('#notebook-container');\n",
              "if (notebookContainer) {{\n",
              "    x.observe(notebookContainer, {childList: true});\n",
              "}}\n",
              "\n",
              "// Listen for the clearing of the current output cell\n",
              "var outputEl = gd.closest('.output');\n",
              "if (outputEl) {{\n",
              "    x.observe(outputEl, {childList: true});\n",
              "}}\n",
              "\n",
              "                        })\n",
              "                };\n",
              "                });\n",
              "            </script>\n",
              "        </div>"
            ],
            "application/vnd.plotly.v1+json": {
              "data": [
                {
                  "name": "Total cases",
                  "text": "",
                  "y": [
                    12,
                    6,
                    39,
                    43,
                    30,
                    4,
                    20,
                    138,
                    23,
                    147,
                    3,
                    1,
                    29,
                    43,
                    35,
                    45,
                    7,
                    18,
                    13,
                    43,
                    4,
                    11,
                    7,
                    1,
                    6,
                    1
                  ],
                  "marker": {
                    "color": "rgba(255, 153, 51, 0.6)",
                    "line": {
                      "color": "rgba(255, 153, 51, 1.0)",
                      "width": 1
                    }
                  },
                  "x": [
                    "Andhra Pradesh",
                    "Chhattisgarh",
                    "Delhi",
                    "Gujarat",
                    "Haryana",
                    "Himachal Pradesh",
                    "Karnataka",
                    "Kerala",
                    "Madhya Pradesh",
                    "Maharashtra",
                    "Odisha",
                    "Puducherry",
                    "Punjab",
                    "Rajasthan",
                    "Tamil Nadu",
                    "Telengana",
                    "Chandigarh",
                    "Jammu and Kashmir",
                    "Ladakh",
                    "Uttar Pradesh",
                    "Uttarakhand",
                    "West Bengal",
                    "Bihar",
                    "Mizoram",
                    "Goa",
                    "Manipur"
                  ],
                  "type": "bar",
                  "orientation": "v"
                }
              ],
              "config": {
                "plotlyServerURL": "https://plot.ly",
                "linkText": "Export to plot.ly",
                "showLink": true
              },
              "layout": {
                "template": {
                  "layout": {
                    "shapedefaults": {
                      "line": {
                        "color": "#2a3f5f"
                      }
                    },
                    "polar": {
                      "radialaxis": {
                        "ticks": "",
                        "gridcolor": "white",
                        "linecolor": "white"
                      },
                      "bgcolor": "#E5ECF6",
                      "angularaxis": {
                        "ticks": "",
                        "gridcolor": "white",
                        "linecolor": "white"
                      }
                    },
                    "colorway": [
                      "#636efa",
                      "#EF553B",
                      "#00cc96",
                      "#ab63fa",
                      "#FFA15A",
                      "#19d3f3",
                      "#FF6692",
                      "#B6E880",
                      "#FF97FF",
                      "#FECB52"
                    ],
                    "xaxis": {
                      "automargin": true,
                      "title": {
                        "standoff": 15
                      },
                      "zerolinewidth": 2,
                      "ticks": "",
                      "zerolinecolor": "white",
                      "gridcolor": "white",
                      "linecolor": "white"
                    },
                    "colorscale": {
                      "diverging": [
                        [
                          0,
                          "#8e0152"
                        ],
                        [
                          0.1,
                          "#c51b7d"
                        ],
                        [
                          0.2,
                          "#de77ae"
                        ],
                        [
                          0.3,
                          "#f1b6da"
                        ],
                        [
                          0.4,
                          "#fde0ef"
                        ],
                        [
                          0.5,
                          "#f7f7f7"
                        ],
                        [
                          0.6,
                          "#e6f5d0"
                        ],
                        [
                          0.7,
                          "#b8e186"
                        ],
                        [
                          0.8,
                          "#7fbc41"
                        ],
                        [
                          0.9,
                          "#4d9221"
                        ],
                        [
                          1,
                          "#276419"
                        ]
                      ],
                      "sequential": [
                        [
                          0,
                          "#0d0887"
                        ],
                        [
                          0.1111111111111111,
                          "#46039f"
                        ],
                        [
                          0.2222222222222222,
                          "#7201a8"
                        ],
                        [
                          0.3333333333333333,
                          "#9c179e"
                        ],
                        [
                          0.4444444444444444,
                          "#bd3786"
                        ],
                        [
                          0.5555555555555556,
                          "#d8576b"
                        ],
                        [
                          0.6666666666666666,
                          "#ed7953"
                        ],
                        [
                          0.7777777777777778,
                          "#fb9f3a"
                        ],
                        [
                          0.8888888888888888,
                          "#fdca26"
                        ],
                        [
                          1,
                          "#f0f921"
                        ]
                      ],
                      "sequentialminus": [
                        [
                          0,
                          "#0d0887"
                        ],
                        [
                          0.1111111111111111,
                          "#46039f"
                        ],
                        [
                          0.2222222222222222,
                          "#7201a8"
                        ],
                        [
                          0.3333333333333333,
                          "#9c179e"
                        ],
                        [
                          0.4444444444444444,
                          "#bd3786"
                        ],
                        [
                          0.5555555555555556,
                          "#d8576b"
                        ],
                        [
                          0.6666666666666666,
                          "#ed7953"
                        ],
                        [
                          0.7777777777777778,
                          "#fb9f3a"
                        ],
                        [
                          0.8888888888888888,
                          "#fdca26"
                        ],
                        [
                          1,
                          "#f0f921"
                        ]
                      ]
                    },
                    "paper_bgcolor": "white",
                    "plot_bgcolor": "#E5ECF6",
                    "title": {
                      "x": 0.05
                    },
                    "scene": {
                      "zaxis": {
                        "backgroundcolor": "#E5ECF6",
                        "ticks": "",
                        "gridwidth": 2,
                        "showbackground": true,
                        "zerolinecolor": "white",
                        "gridcolor": "white",
                        "linecolor": "white"
                      },
                      "xaxis": {
                        "backgroundcolor": "#E5ECF6",
                        "ticks": "",
                        "gridwidth": 2,
                        "showbackground": true,
                        "zerolinecolor": "white",
                        "gridcolor": "white",
                        "linecolor": "white"
                      },
                      "yaxis": {
                        "backgroundcolor": "#E5ECF6",
                        "ticks": "",
                        "gridwidth": 2,
                        "showbackground": true,
                        "zerolinecolor": "white",
                        "gridcolor": "white",
                        "linecolor": "white"
                      }
                    },
                    "yaxis": {
                      "automargin": true,
                      "title": {
                        "standoff": 15
                      },
                      "zerolinewidth": 2,
                      "ticks": "",
                      "zerolinecolor": "white",
                      "gridcolor": "white",
                      "linecolor": "white"
                    },
                    "annotationdefaults": {
                      "arrowwidth": 1,
                      "arrowhead": 0,
                      "arrowcolor": "#2a3f5f"
                    },
                    "hoverlabel": {
                      "align": "left"
                    },
                    "ternary": {
                      "bgcolor": "#E5ECF6",
                      "baxis": {
                        "ticks": "",
                        "gridcolor": "white",
                        "linecolor": "white"
                      },
                      "caxis": {
                        "ticks": "",
                        "gridcolor": "white",
                        "linecolor": "white"
                      },
                      "aaxis": {
                        "ticks": "",
                        "gridcolor": "white",
                        "linecolor": "white"
                      }
                    },
                    "mapbox": {
                      "style": "light"
                    },
                    "hovermode": "closest",
                    "font": {
                      "color": "#2a3f5f"
                    },
                    "geo": {
                      "showland": true,
                      "landcolor": "#E5ECF6",
                      "showlakes": true,
                      "bgcolor": "white",
                      "subunitcolor": "white",
                      "lakecolor": "white"
                    },
                    "coloraxis": {
                      "colorbar": {
                        "outlinewidth": 0,
                        "ticks": ""
                      }
                    }
                  },
                  "data": {
                    "mesh3d": [
                      {
                        "colorbar": {
                          "outlinewidth": 0,
                          "ticks": ""
                        },
                        "type": "mesh3d"
                      }
                    ],
                    "scattercarpet": [
                      {
                        "marker": {
                          "colorbar": {
                            "outlinewidth": 0,
                            "ticks": ""
                          }
                        },
                        "type": "scattercarpet"
                      }
                    ],
                    "pie": [
                      {
                        "automargin": true,
                        "type": "pie"
                      }
                    ],
                    "surface": [
                      {
                        "colorbar": {
                          "outlinewidth": 0,
                          "ticks": ""
                        },
                        "type": "surface",
                        "colorscale": [
                          [
                            0,
                            "#0d0887"
                          ],
                          [
                            0.1111111111111111,
                            "#46039f"
                          ],
                          [
                            0.2222222222222222,
                            "#7201a8"
                          ],
                          [
                            0.3333333333333333,
                            "#9c179e"
                          ],
                          [
                            0.4444444444444444,
                            "#bd3786"
                          ],
                          [
                            0.5555555555555556,
                            "#d8576b"
                          ],
                          [
                            0.6666666666666666,
                            "#ed7953"
                          ],
                          [
                            0.7777777777777778,
                            "#fb9f3a"
                          ],
                          [
                            0.8888888888888888,
                            "#fdca26"
                          ],
                          [
                            1,
                            "#f0f921"
                          ]
                        ]
                      }
                    ],
                    "table": [
                      {
                        "header": {
                          "line": {
                            "color": "white"
                          },
                          "fill": {
                            "color": "#C8D4E3"
                          }
                        },
                        "cells": {
                          "line": {
                            "color": "white"
                          },
                          "fill": {
                            "color": "#EBF0F8"
                          }
                        },
                        "type": "table"
                      }
                    ],
                    "scatterpolargl": [
                      {
                        "marker": {
                          "colorbar": {
                            "outlinewidth": 0,
                            "ticks": ""
                          }
                        },
                        "type": "scatterpolargl"
                      }
                    ],
                    "contour": [
                      {
                        "colorbar": {
                          "outlinewidth": 0,
                          "ticks": ""
                        },
                        "type": "contour",
                        "colorscale": [
                          [
                            0,
                            "#0d0887"
                          ],
                          [
                            0.1111111111111111,
                            "#46039f"
                          ],
                          [
                            0.2222222222222222,
                            "#7201a8"
                          ],
                          [
                            0.3333333333333333,
                            "#9c179e"
                          ],
                          [
                            0.4444444444444444,
                            "#bd3786"
                          ],
                          [
                            0.5555555555555556,
                            "#d8576b"
                          ],
                          [
                            0.6666666666666666,
                            "#ed7953"
                          ],
                          [
                            0.7777777777777778,
                            "#fb9f3a"
                          ],
                          [
                            0.8888888888888888,
                            "#fdca26"
                          ],
                          [
                            1,
                            "#f0f921"
                          ]
                        ]
                      }
                    ],
                    "carpet": [
                      {
                        "type": "carpet",
                        "baxis": {
                          "minorgridcolor": "white",
                          "gridcolor": "white",
                          "linecolor": "white",
                          "endlinecolor": "#2a3f5f",
                          "startlinecolor": "#2a3f5f"
                        },
                        "aaxis": {
                          "minorgridcolor": "white",
                          "gridcolor": "white",
                          "linecolor": "white",
                          "endlinecolor": "#2a3f5f",
                          "startlinecolor": "#2a3f5f"
                        }
                      }
                    ],
                    "contourcarpet": [
                      {
                        "colorbar": {
                          "outlinewidth": 0,
                          "ticks": ""
                        },
                        "type": "contourcarpet"
                      }
                    ],
                    "heatmap": [
                      {
                        "colorbar": {
                          "outlinewidth": 0,
                          "ticks": ""
                        },
                        "type": "heatmap",
                        "colorscale": [
                          [
                            0,
                            "#0d0887"
                          ],
                          [
                            0.1111111111111111,
                            "#46039f"
                          ],
                          [
                            0.2222222222222222,
                            "#7201a8"
                          ],
                          [
                            0.3333333333333333,
                            "#9c179e"
                          ],
                          [
                            0.4444444444444444,
                            "#bd3786"
                          ],
                          [
                            0.5555555555555556,
                            "#d8576b"
                          ],
                          [
                            0.6666666666666666,
                            "#ed7953"
                          ],
                          [
                            0.7777777777777778,
                            "#fb9f3a"
                          ],
                          [
                            0.8888888888888888,
                            "#fdca26"
                          ],
                          [
                            1,
                            "#f0f921"
                          ]
                        ]
                      }
                    ],
                    "scattermapbox": [
                      {
                        "marker": {
                          "colorbar": {
                            "outlinewidth": 0,
                            "ticks": ""
                          }
                        },
                        "type": "scattermapbox"
                      }
                    ],
                    "scatter3d": [
                      {
                        "marker": {
                          "colorbar": {
                            "outlinewidth": 0,
                            "ticks": ""
                          }
                        },
                        "line": {
                          "colorbar": {
                            "outlinewidth": 0,
                            "ticks": ""
                          }
                        },
                        "type": "scatter3d"
                      }
                    ],
                    "scattergl": [
                      {
                        "marker": {
                          "colorbar": {
                            "outlinewidth": 0,
                            "ticks": ""
                          }
                        },
                        "type": "scattergl"
                      }
                    ],
                    "scatterternary": [
                      {
                        "marker": {
                          "colorbar": {
                            "outlinewidth": 0,
                            "ticks": ""
                          }
                        },
                        "type": "scatterternary"
                      }
                    ],
                    "histogram": [
                      {
                        "marker": {
                          "colorbar": {
                            "outlinewidth": 0,
                            "ticks": ""
                          }
                        },
                        "type": "histogram"
                      }
                    ],
                    "heatmapgl": [
                      {
                        "colorbar": {
                          "outlinewidth": 0,
                          "ticks": ""
                        },
                        "type": "heatmapgl",
                        "colorscale": [
                          [
                            0,
                            "#0d0887"
                          ],
                          [
                            0.1111111111111111,
                            "#46039f"
                          ],
                          [
                            0.2222222222222222,
                            "#7201a8"
                          ],
                          [
                            0.3333333333333333,
                            "#9c179e"
                          ],
                          [
                            0.4444444444444444,
                            "#bd3786"
                          ],
                          [
                            0.5555555555555556,
                            "#d8576b"
                          ],
                          [
                            0.6666666666666666,
                            "#ed7953"
                          ],
                          [
                            0.7777777777777778,
                            "#fb9f3a"
                          ],
                          [
                            0.8888888888888888,
                            "#fdca26"
                          ],
                          [
                            1,
                            "#f0f921"
                          ]
                        ]
                      }
                    ],
                    "scatterpolar": [
                      {
                        "marker": {
                          "colorbar": {
                            "outlinewidth": 0,
                            "ticks": ""
                          }
                        },
                        "type": "scatterpolar"
                      }
                    ],
                    "histogram2d": [
                      {
                        "colorbar": {
                          "outlinewidth": 0,
                          "ticks": ""
                        },
                        "type": "histogram2d",
                        "colorscale": [
                          [
                            0,
                            "#0d0887"
                          ],
                          [
                            0.1111111111111111,
                            "#46039f"
                          ],
                          [
                            0.2222222222222222,
                            "#7201a8"
                          ],
                          [
                            0.3333333333333333,
                            "#9c179e"
                          ],
                          [
                            0.4444444444444444,
                            "#bd3786"
                          ],
                          [
                            0.5555555555555556,
                            "#d8576b"
                          ],
                          [
                            0.6666666666666666,
                            "#ed7953"
                          ],
                          [
                            0.7777777777777778,
                            "#fb9f3a"
                          ],
                          [
                            0.8888888888888888,
                            "#fdca26"
                          ],
                          [
                            1,
                            "#f0f921"
                          ]
                        ]
                      }
                    ],
                    "scattergeo": [
                      {
                        "marker": {
                          "colorbar": {
                            "outlinewidth": 0,
                            "ticks": ""
                          }
                        },
                        "type": "scattergeo"
                      }
                    ],
                    "bar": [
                      {
                        "marker": {
                          "line": {
                            "color": "#E5ECF6",
                            "width": 0.5
                          }
                        },
                        "type": "bar",
                        "error_x": {
                          "color": "#2a3f5f"
                        },
                        "error_y": {
                          "color": "#2a3f5f"
                        }
                      }
                    ],
                    "choropleth": [
                      {
                        "colorbar": {
                          "outlinewidth": 0,
                          "ticks": ""
                        },
                        "type": "choropleth"
                      }
                    ],
                    "parcoords": [
                      {
                        "line": {
                          "colorbar": {
                            "outlinewidth": 0,
                            "ticks": ""
                          }
                        },
                        "type": "parcoords"
                      }
                    ],
                    "barpolar": [
                      {
                        "marker": {
                          "line": {
                            "color": "#E5ECF6",
                            "width": 0.5
                          }
                        },
                        "type": "barpolar"
                      }
                    ],
                    "histogram2dcontour": [
                      {
                        "colorbar": {
                          "outlinewidth": 0,
                          "ticks": ""
                        },
                        "type": "histogram2dcontour",
                        "colorscale": [
                          [
                            0,
                            "#0d0887"
                          ],
                          [
                            0.1111111111111111,
                            "#46039f"
                          ],
                          [
                            0.2222222222222222,
                            "#7201a8"
                          ],
                          [
                            0.3333333333333333,
                            "#9c179e"
                          ],
                          [
                            0.4444444444444444,
                            "#bd3786"
                          ],
                          [
                            0.5555555555555556,
                            "#d8576b"
                          ],
                          [
                            0.6666666666666666,
                            "#ed7953"
                          ],
                          [
                            0.7777777777777778,
                            "#fb9f3a"
                          ],
                          [
                            0.8888888888888888,
                            "#fdca26"
                          ],
                          [
                            1,
                            "#f0f921"
                          ]
                        ]
                      }
                    ],
                    "scatter": [
                      {
                        "marker": {
                          "colorbar": {
                            "outlinewidth": 0,
                            "ticks": ""
                          }
                        },
                        "type": "scatter"
                      }
                    ]
                  }
                },
                "title": {
                  "font": {
                    "color": "#4D5663"
                  }
                },
                "paper_bgcolor": "#F5F6F9",
                "plot_bgcolor": "#F5F6F9",
                "yaxis": {
                  "tickfont": {
                    "color": "#4D5663"
                  },
                  "zerolinecolor": "#E1E5ED",
                  "title": {
                    "text": "",
                    "font": {
                      "color": "#4D5663"
                    }
                  },
                  "gridcolor": "#E1E5ED",
                  "showgrid": true
                },
                "xaxis": {
                  "tickfont": {
                    "color": "#4D5663"
                  },
                  "zerolinecolor": "#E1E5ED",
                  "title": {
                    "text": "",
                    "font": {
                      "color": "#4D5663"
                    }
                  },
                  "gridcolor": "#E1E5ED",
                  "showgrid": true
                },
                "legend": {
                  "bgcolor": "#F5F6F9",
                  "font": {
                    "color": "#4D5663"
                  }
                }
              }
            }
          },
          "metadata": {
            "tags": []
          }
        }
      ]
    },
    {
      "cell_type": "code",
      "metadata": {
        "id": "f_JnLXxo7RRH",
        "colab_type": "code",
        "colab": {}
      },
      "source": [
        ""
      ],
      "execution_count": 0,
      "outputs": []
    }
  ]
}